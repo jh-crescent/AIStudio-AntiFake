{
 "cells": [
  {
   "cell_type": "code",
   "execution_count": 1,
   "metadata": {
    "collapsed": false
   },
   "outputs": [],
   "source": [
    "import numpy as np\r\n",
    "import pandas as pd\r\n",
    "import matplotlib.pyplot as plt\r\n",
    "\r\n",
    "import gc\r\n",
    "import datetime\r\n",
    "import time\r\n",
    "from sklearn.preprocessing import LabelEncoder\r\n",
    "from sklearn.model_selection import train_test_split\r\n",
    "import pickle\r\n",
    "\r\n",
    "import warnings \r\n",
    "warnings.filterwarnings('ignore')"
   ]
  },
  {
   "cell_type": "code",
   "execution_count": 2,
   "metadata": {
    "collapsed": false
   },
   "outputs": [
    {
     "name": "stderr",
     "output_type": "stream",
     "text": [
      "/opt/conda/envs/python35-paddle120-env/lib/python3.7/site-packages/paddle/fluid/layers/utils.py:26: DeprecationWarning: `np.int` is a deprecated alias for the builtin `int`. To silence this warning, use `int` by itself. Doing this will not modify any behavior and is safe. When replacing `np.int`, you may wish to use e.g. `np.int64` or `np.int32` to specify the precision. If you wish to review your current use, check the release note link for additional information.\n",
      "Deprecated in NumPy 1.20; for more details and guidance: https://numpy.org/devdocs/release/1.20.0-notes.html#deprecations\n",
      "  def convert_to_list(value, n, name, dtype=np.int):\n"
     ]
    }
   ],
   "source": [
    "import paddle\r\n",
    "import paddle.nn as nn\r\n",
    "import paddle.nn.functional as F\r\n",
    "import paddle.optimizer as optim\r\n",
    "from paddle.io import Dataset, DataLoader"
   ]
  },
  {
   "cell_type": "markdown",
   "metadata": {
    "collapsed": false
   },
   "source": [
    "### 超参数定义"
   ]
  },
  {
   "cell_type": "code",
   "execution_count": 6,
   "metadata": {
    "collapsed": false
   },
   "outputs": [],
   "source": [
    "# DATA_PATH = \"data/data79052/\"\r\n",
    "DATA_PATH = \"work/data/\"\r\n",
    "BATCH_SIZE = 256  # 128\r\n",
    "USE_ALL_DATA = False\r\n",
    "USE_TIME = True  # 是否使用时间特征\r\n",
    "\r\n",
    "EMB_DIM = 32  # 嵌入维度  16\r\n",
    "REDUCE_RATIO = 2  # 先扩大一倍再降回来\r\n",
    "MB_NUMS = 3  # MaskBlocks数量  5"
   ]
  },
  {
   "cell_type": "code",
   "execution_count": 7,
   "metadata": {
    "collapsed": false
   },
   "outputs": [],
   "source": [
    "# xDeepFM相关参数\r\n",
    "CIN_EMB_DIM = 32  # 32\r\n",
    "CIN_H_0 = 22  # 原始特征数量\r\n",
    "CIN_HK_LIST = [256, 128, 64]  # [100, 100, 50]"
   ]
  },
  {
   "cell_type": "code",
   "execution_count": 4,
   "metadata": {
    "collapsed": false
   },
   "outputs": [],
   "source": [
    "def reduce_mem_usage(df, use_uint=True, verbose=True):\r\n",
    "    \"\"\"\r\n",
    "    节约内存函数\r\n",
    "    :param df: 原始从文件中读取出来的df数据\r\n",
    "    :param use_uint: 是否使用无符号整型处理数据\r\n",
    "    :param verbose: 是否打印输出处理前后内存占用情况\r\n",
    "    :return: 处理后的df\r\n",
    "    \"\"\"\r\n",
    "    numerics = ['uint8', 'uint16', 'uint32', 'uint64',\r\n",
    "                'int8', 'int16', 'int32', 'int64', \r\n",
    "                'float16', 'float32', 'float64']\r\n",
    "    start_mem = df.memory_usage().sum() / 1024**2    \r\n",
    "    for col in df.columns:\r\n",
    "        col_type = df[col].dtypes\r\n",
    "        if col_type in numerics:\r\n",
    "            c_min = df[col].min()\r\n",
    "            c_max = df[col].max()\r\n",
    "            if 'int' in str(col_type):\r\n",
    "                if use_uint and c_min >= 0:  # uint类型\r\n",
    "                    if c_max <= np.iinfo(np.uint8).max:\r\n",
    "                        df[col] = df[col].astype(np.uint8)\r\n",
    "                    elif c_max <= np.iinfo(np.uint16).max:\r\n",
    "                        df[col] = df[col].astype(np.uint16)\r\n",
    "                    elif c_max <= np.iinfo(np.uint32).max:\r\n",
    "                        df[col] = df[col].astype(np.uint32)\r\n",
    "                    else:\r\n",
    "                        df[col] = df[col].astype(np.uint64)\r\n",
    "                else:  # signed int类型\r\n",
    "                    if c_min >= np.iinfo(np.int8).min and c_max <= np.iinfo(np.int8).max:\r\n",
    "                        df[col] = df[col].astype(np.int8)\r\n",
    "                    elif c_min >= np.iinfo(np.int16).min and c_max <= np.iinfo(np.int16).max:\r\n",
    "                        df[col] = df[col].astype(np.int16)\r\n",
    "                    elif c_min >= np.iinfo(np.int32).min and c_max <= np.iinfo(np.int32).max:\r\n",
    "                        df[col] = df[col].astype(np.int32)\r\n",
    "                    else:\r\n",
    "                        df[col] = df[col].astype(np.int64)  \r\n",
    "            else:  # float类型\r\n",
    "                if c_min >= np.finfo(np.float16).min and c_max <= np.finfo(np.float16).max:\r\n",
    "                    df[col] = df[col].astype(np.float16)\r\n",
    "                elif c_min >= np.finfo(np.float32).min and c_max <= np.finfo(np.float32).max:\r\n",
    "                    df[col] = df[col].astype(np.float32)\r\n",
    "                else:\r\n",
    "                    df[col] = df[col].astype(np.float64)    \r\n",
    "    end_mem = df.memory_usage().sum() / 1024**2\r\n",
    "    if verbose: \r\n",
    "        print('StartMem:{:.2f}Mb, EndMem:{:.2f}Mb ({:.1f}% reduction)'.format(start_mem, end_mem, 100 * (start_mem - end_mem) / start_mem))\r\n",
    "    return df"
   ]
  },
  {
   "cell_type": "markdown",
   "metadata": {
    "collapsed": false
   },
   "source": [
    "### 构建 特征种类-嵌入维度 对应关系"
   ]
  },
  {
   "cell_type": "code",
   "execution_count": 8,
   "metadata": {
    "collapsed": false
   },
   "outputs": [
    {
     "name": "stderr",
     "output_type": "stream",
     "text": [
      "/opt/conda/envs/python35-paddle120-env/lib/python3.7/site-packages/ipykernel_launcher.py:13: DeprecationWarning: `np.int` is a deprecated alias for the builtin `int`. To silence this warning, use `int` by itself. Doing this will not modify any behavior and is safe. When replacing `np.int`, you may wish to use e.g. `np.int64` or `np.int32` to specify the precision. If you wish to review your current use, check the release note link for additional information.\n",
      "Deprecated in NumPy 1.20; for more details and guidance: https://numpy.org/devdocs/release/1.20.0-notes.html#deprecations\n",
      "  del sys.path[0]\n"
     ]
    }
   ],
   "source": [
    "# 特征列名称\r\n",
    "feat_list = ['android_id', 'media_id', 'package', 'apptype', 'version', \r\n",
    "             'fea_hash', 'fea1_hash', 'cus_type', 'location', 'carrier', \r\n",
    "             'dev_height', 'dev_width', 'dev_ppi', 'lan', 'ntt', 'osv', 'os']  \r\n",
    "# 各特征对应种类数\r\n",
    "cardi = [467958, 292, 2102, 89, 23, 509473, 6147, 58, 332, 5, 864, 382, 105, 25, 8, 165, 2]\r\n",
    "if USE_TIME:\r\n",
    "    feat_list.extend([\"day\", \"weekday\", \"hour\", \"minute\", \"second\"])\r\n",
    "    cardi.extend([8, 7, 24, 60, 60])\r\n",
    "# 特征列:种类数 对应字典\r\n",
    "cardi_dict = dict(zip(feat_list, cardi))    \r\n",
    "# 嵌入维度列表(嵌入维度 = 6 * (原始种类数^0.25))\r\n",
    "emb_dim_list = [6 * np.int(np.power(c, 0.25)) for c in cardi]#[EMB_DIM for c in cardi]\r\n",
    "# 构建 原始维度:嵌入维度 对应列表\r\n",
    "emb_dim_dict = list(zip(cardi, emb_dim_list))  # 每个特征域使用自己的嵌入维度\r\n",
    "emb_samedim_dict = list(zip(cardi, [EMB_DIM] * len(cardi)))  # 每个特征域是哟明相同的嵌入维度，便于基于vector-wise的特征交互\r\n",
    "# 计算嵌入总维度\r\n",
    "EMB_OUT_SIZE = sum(emb_dim_list)         \r\n",
    "EMB_SAMEOUT_SIZE = EMB_DIM * len(cardi)"
   ]
  },
  {
   "cell_type": "markdown",
   "metadata": {
    "collapsed": false
   },
   "source": [
    "### 加载训练数据"
   ]
  },
  {
   "cell_type": "code",
   "execution_count": 9,
   "metadata": {
    "collapsed": false
   },
   "outputs": [
    {
     "name": "stdout",
     "output_type": "stream",
     "text": [
      "StartMem:95.37Mb, EndMem:22.89Mb (76.0% reduction)\n"
     ]
    }
   ],
   "source": [
    "if USE_TIME: \r\n",
    "    train = pd.read_csv(DATA_PATH + \"lbe_raw_train_with_time.csv\")\r\n",
    "else:\r\n",
    "    train = pd.read_csv(DATA_PATH + \"lbe_raw_train.csv\")\r\n",
    "train = reduce_mem_usage(train, use_uint=False)"
   ]
  },
  {
   "cell_type": "markdown",
   "metadata": {
    "collapsed": false
   },
   "source": [
    "### 分割训练集和验证集"
   ]
  },
  {
   "cell_type": "code",
   "execution_count": 10,
   "metadata": {
    "collapsed": false
   },
   "outputs": [],
   "source": [
    "def getTrain(df, use_all):\r\n",
    "    \"\"\"\r\n",
    "    分割训练集和验证集\r\n",
    "    :param df:全量训练数据\r\n",
    "    :param use_all:是否使用全量训练数据\r\n",
    "    :return:训练集特征, 验证集特征, 训练集标签, 验证集标签\r\n",
    "    \"\"\"\r\n",
    "    if use_all:\r\n",
    "        X_train, X_valid, y_train, y_valid = train[feat_list].values, None, train[\"label\"].values, None\r\n",
    "    else:\r\n",
    "        X_train, X_valid, y_train, y_valid = train_test_split(train[feat_list].values, \r\n",
    "                                                      train[\"label\"].values, test_size=0.1, random_state=2021)  # 0.1\r\n",
    "    \r\n",
    "    return X_train, X_valid, y_train, y_valid"
   ]
  },
  {
   "cell_type": "code",
   "execution_count": 11,
   "metadata": {
    "collapsed": false
   },
   "outputs": [],
   "source": [
    "X_train, X_valid, y_train, y_valid = getTrain(train, USE_ALL_DATA)"
   ]
  },
  {
   "cell_type": "code",
   "execution_count": 14,
   "metadata": {
    "collapsed": false
   },
   "outputs": [],
   "source": [
    "X_all, _, y_all, _ = getTrain(train, True)"
   ]
  },
  {
   "cell_type": "markdown",
   "metadata": {
    "collapsed": false
   },
   "source": [
    "### 建立dataset类用于加载数据"
   ]
  },
  {
   "cell_type": "code",
   "execution_count": 10,
   "metadata": {
    "collapsed": false
   },
   "outputs": [],
   "source": [
    "class MyDataset(Dataset):\r\n",
    "    def __init__(self, data_x, data_y):\r\n",
    "        super(MyDataset, self).__init__()\r\n",
    "        self.data_x = data_x\r\n",
    "        self.data_y = data_y\r\n",
    "    \r\n",
    "    def __len__(self):\r\n",
    "        return self.data_y.shape[0]\r\n",
    "    \r\n",
    "    def __getitem__(self, idx):\r\n",
    "        return self.data_x[idx].astype(np.int), self.data_y[idx]"
   ]
  },
  {
   "cell_type": "code",
   "execution_count": 11,
   "metadata": {
    "collapsed": false
   },
   "outputs": [],
   "source": [
    "train_dataset = MyDataset(X_train, y_train)\r\n",
    "if not USE_ALL_DATA:\r\n",
    "    valid_dataset = MyDataset(X_valid, y_valid)"
   ]
  },
  {
   "cell_type": "code",
   "execution_count": 15,
   "metadata": {
    "collapsed": false
   },
   "outputs": [],
   "source": [
    "all_dataset = MyDataset(X_all, y_all)\r\n",
    "all_loader = DataLoader(all_dataset, batch_size=BATCH_SIZE, shuffle=True)"
   ]
  },
  {
   "cell_type": "code",
   "execution_count": 16,
   "metadata": {
    "collapsed": false
   },
   "outputs": [],
   "source": [
    "train_loader = DataLoader(train_dataset, batch_size=BATCH_SIZE, shuffle=True)\r\n",
    "if not USE_ALL_DATA:\r\n",
    "    valid_loader = DataLoader(valid_dataset, batch_size=BATCH_SIZE, shuffle=False)"
   ]
  },
  {
   "cell_type": "markdown",
   "metadata": {
    "collapsed": false
   },
   "source": [
    "### 模型搭建"
   ]
  },
  {
   "cell_type": "markdown",
   "metadata": {
    "collapsed": false
   },
   "source": [
    "### MaskNet(参考[论文链接](https://arxiv.org/pdf/2102.07619v1.pdf))"
   ]
  },
  {
   "cell_type": "code",
   "execution_count": 17,
   "metadata": {
    "collapsed": false
   },
   "outputs": [],
   "source": [
    "class IGM(nn.Layer):\r\n",
    "    \"\"\"\r\n",
    "    实例指导的Mask模块。分为两层fc，第一层将数据扩大至中间维度，第二层将中间维度投影回原始维度\r\n",
    "    :param reduce_r: 中间层缩减比例(原始维度 / 中间层维度)\r\n",
    "    :param input_size: 原始输入维度\r\n",
    "    \"\"\"\r\n",
    "    def __init__(self, reduce_r, input_size):\r\n",
    "        super(IGM, self).__init__()\r\n",
    "        \r\n",
    "        mid_size = input_size * reduce_r\r\n",
    "        self.agg_layer = nn.Linear(input_size, mid_size)  # 先扩大至中间维度\r\n",
    "        self.proj_layer = nn.Linear(mid_size, input_size)  # 再降维至原始维度\r\n",
    "    \r\n",
    "    def forward(self, x):\r\n",
    "        x = self.agg_layer(x)\r\n",
    "        x = self.proj_layer(x)\r\n",
    "        return x"
   ]
  },
  {
   "cell_type": "code",
   "execution_count": 18,
   "metadata": {
    "collapsed": false
   },
   "outputs": [],
   "source": [
    "class MaskBlock(nn.Layer):\r\n",
    "    \"\"\"\r\n",
    "    MaskBlock，MaskNet的组成部分。每个MaskBlock由一个IGM和一个隐层组成。\r\n",
    "    :param emb_out_size: 嵌入层输出总维度\r\n",
    "    :param igm_reduce_r: IGM的缩减率\r\n",
    "    :param hid_size: 隐层维度，默认为-1，此时隐层维度设置为和嵌入层输出维度相同\r\n",
    "    :param mode:MaskBlock的类型，可选参数为'emb'和'mb'\r\n",
    "        \"emb\":MaskBlock on feature embedding\r\n",
    "        \"mb\":MaskBlock on MaskBlock\r\n",
    "    \"\"\"\r\n",
    "    def __init__(self, emb_out_size, igm_reduce_r, hid_size=-1, mode=\"emb\"):\r\n",
    "        \r\n",
    "        super(MaskBlock, self).__init__()\r\n",
    "        self.mode = mode  # 用于区分两种不同结构的MaskBlock\r\n",
    "        \r\n",
    "        # 三个关键部分：LN, IGM, FFH\r\n",
    "        if mode == \"emb\":\r\n",
    "            self.LN_EMB = nn.LayerNorm(emb_out_size)\r\n",
    "            \r\n",
    "        self.IGM = IGM(reduce_r=igm_reduce_r, input_size=emb_out_size)\r\n",
    "        \r\n",
    "        if hid_size == -1:\r\n",
    "            hid_size = emb_out_size\r\n",
    "        self.hid_layer = nn.Linear(emb_out_size, hid_size)\r\n",
    "        self.LN_HID = nn.LayerNorm(hid_size)\r\n",
    "        \r\n",
    "    def forward(self, x_left, x_right):\r\n",
    "        if self.mode == \"emb\":\r\n",
    "            ln_emb_out = self.LN_EMB(x_left)\r\n",
    "        else:\r\n",
    "            ln_emb_out = x_left\r\n",
    "            \r\n",
    "        igm_out = self.IGM(x_right)\r\n",
    "        out = F.relu(self.LN_HID(self.hid_layer(ln_emb_out * igm_out)))\r\n",
    "        return out"
   ]
  },
  {
   "cell_type": "code",
   "execution_count": 19,
   "metadata": {
    "collapsed": false
   },
   "outputs": [],
   "source": [
    "class EmbLayer(nn.Layer):\r\n",
    "    \"\"\"\r\n",
    "    嵌入层\r\n",
    "    :param emb_dict：list, [(cardi：emb_dim), ...]\r\n",
    "    :param concat_axis: \r\n",
    "        -1 -> 横向(形成一个向量)    \r\n",
    "        0 -> 纵向(形成一个矩阵)   \r\n",
    "        None -> 不拼接，直接返回嵌入list\r\n",
    "    return: 各个域嵌入之后的结果\r\n",
    "    \"\"\"\r\n",
    "    def __init__(self, emb_dict, concat_axis=-1):\r\n",
    "        super(EmbLayer, self).__init__()\r\n",
    "        self.field_num = len(emb_dict)\r\n",
    "        self.concat_axis = concat_axis\r\n",
    "        self.emb_list, self.emb_out_size = self.createEmb_list(emb_dict)\r\n",
    "        \r\n",
    "    def createEmb_list(self, emb_dict):\r\n",
    "        emb_list = nn.LayerList()\r\n",
    "        emb_out_size = 0\r\n",
    "        for cardi_num, emb_dim in emb_dict:\r\n",
    "            emb_list.append(nn.Embedding(cardi_num, emb_dim))\r\n",
    "            emb_out_size += emb_dim\r\n",
    "        \r\n",
    "        return emb_list, emb_out_size\r\n",
    "    \r\n",
    "    def forward(self, x):\r\n",
    "        if self.concat_axis is None:\r\n",
    "            return [self.emb_list[i](x[:, i]) for i in range(len(self.emb_list))]\r\n",
    "            \r\n",
    "        y = paddle.concat([self.emb_list[i](x[:, i]) for i in range(len(self.emb_list))], axis=-1)\r\n",
    "        if self.concat_axis != -1:\r\n",
    "            y = paddle.reshape(y, shape=[x.shape[0], self.field_num, -1])\r\n",
    "        return y"
   ]
  },
  {
   "cell_type": "code",
   "execution_count": 20,
   "metadata": {
    "collapsed": false
   },
   "outputs": [],
   "source": [
    "class MLP(nn.Layer):\r\n",
    "    \"\"\"\r\n",
    "    MLP层\r\n",
    "    :param mlp_size_list: list, MLP各层尺寸\r\n",
    "    :param bn: bool, 是否使用batch normalization\r\n",
    "    :param drop_out: 0-1/None, 丢弃比例, 默认0.5\r\n",
    "    \"\"\"\r\n",
    "    def __init__(self, mlp_size_list, bn=False, drop_out=0.5):\r\n",
    "        super(MLP, self).__init__()\r\n",
    "        self.bn = bn\r\n",
    "        self.drop_out = drop_out\r\n",
    "        self.fc_layers = self.createFCLayers(mlp_size_list)\r\n",
    "        \r\n",
    "    def createFCLayers(self, mlp_size_list):\r\n",
    "        fc_layers = nn.LayerList()\r\n",
    "        if self.bn:\r\n",
    "            self.bn_layers = nn.LayerList()\r\n",
    "        if isinstance(self.drop_out, float):\r\n",
    "            self.drop_out_layers = nn.LayerList()\r\n",
    "\r\n",
    "        for idx in range(len(mlp_size_list)-1):\r\n",
    "            fc_layers.append(nn.Linear(mlp_size_list[idx], mlp_size_list[idx+1]))\r\n",
    "            if self.bn:\r\n",
    "                self.bn_layers.append(nn.BatchNorm1D(mlp_size_list[idx+1]))\r\n",
    "            \r\n",
    "            if isinstance(self.drop_out, float):\r\n",
    "                self.drop_out_layers.append(nn.Dropout(p=self.drop_out))\r\n",
    "\r\n",
    "        return fc_layers\r\n",
    "        \r\n",
    "\r\n",
    "    def forward(self, x):\r\n",
    "        for idx, fc in enumerate(self.fc_layers):\r\n",
    "            x = fc(x)\r\n",
    "            if self.bn:\r\n",
    "                x = self.bn_layers[idx](x)\r\n",
    "            if isinstance(self.drop_out, float):\r\n",
    "                x = self.drop_out_layers[idx](x)\r\n",
    "            x = F.relu(x)\r\n",
    "        \r\n",
    "        return x"
   ]
  },
  {
   "cell_type": "code",
   "execution_count": 21,
   "metadata": {
    "collapsed": false
   },
   "outputs": [],
   "source": [
    "class ParaMaskNet(nn.Layer):\r\n",
    "    \"\"\"\r\n",
    "    并行结构MaskNet\r\n",
    "    :param emb_dict: list, [(原始cardi数量：嵌入维度), ...]\r\n",
    "    :param igm_reduce_r_list: 每个MB对应一个IGM, 因此其长度即为MB的数量，每个值为对应的IGM中缩减率\r\n",
    "    :param mb_hid_list: 每个MB对应一个hidden层，每个值为对应的隐层数量，如果不单独设置可以全部赋值为-1，此时输出和输入维度相同\r\n",
    "    :param mlp_size_list: DNN隐层维度列表\r\n",
    "    :param emb_out_size: 嵌入层输出总维度\r\n",
    "    :param use_self_emb: 是否使用自己的嵌入层\r\n",
    "    :param use_last_fc: 是否使用最后一层全连接\r\n",
    "    :return: 并行结构的MaskNet实例\r\n",
    "    \"\"\"\r\n",
    "    def __init__(self, emb_dict, igm_reduce_r_list, mb_hid_list, mlp_size_list, emb_out_size=EMB_OUT_SIZE, use_self_emb=True, use_last_fc=True):\r\n",
    "        super(ParaMaskNet, self).__init__()\r\n",
    "        \r\n",
    "        self.emb_out_size = emb_out_size\r\n",
    "        self.use_last_fc = use_last_fc\r\n",
    "\r\n",
    "        self.use_self_emb = use_self_emb\r\n",
    "        if use_self_emb:\r\n",
    "            self.emb_layer = EmbLayer(emb_dict, concat_axis=None)\r\n",
    "        \r\n",
    "        self.mb_list, self.mb_out_size = self.createMBlist(igm_reduce_r_list, mb_hid_list)\r\n",
    "        \r\n",
    "        mlp_size_list.insert(0, self.mb_out_size)  # mb层的输出之后即为mlp层\r\n",
    "        self.mlp = MLP(mlp_size_list, bn=True, drop_out=0.5)  \r\n",
    "        \r\n",
    "        self.last_input_dim = mlp_size_list[-1]  # 最后一层fc的输入维度\r\n",
    "        if self.use_last_fc:\r\n",
    "            self.fc = nn.Linear(self.last_input_dim, 1)\r\n",
    "        \r\n",
    "    def createMBlist(self, igm_reduce_r_list, mb_hid_list):\r\n",
    "        \"\"\"\r\n",
    "        构建MaskBlock模块\r\n",
    "        :param igm_reduce_r_list: 每个MB对应的缩减率列表\r\n",
    "        :param mb_hid_list: 每个MB对应的隐层维度列表\r\n",
    "        :return: 创建好的包含若干MB的LayerList\r\n",
    "        \"\"\"\r\n",
    "        mb_list = nn.LayerList()\r\n",
    "        mb_out_size = 0  # 统计所有MB模块的总输出维度\r\n",
    "        \r\n",
    "        for i in range(len(igm_reduce_r_list)):\r\n",
    "            mb_list.append(MaskBlock(self.emb_out_size, igm_reduce_r_list[i], mb_hid_list[i]))  # \r\n",
    "            mb_out_size += self.emb_out_size if mb_hid_list[i] == -1 else mb_hid_list[i]\r\n",
    "            \r\n",
    "        return mb_list, mb_out_size\r\n",
    "        \r\n",
    "        \r\n",
    "    def forward(self, x):\r\n",
    "        # 如果使用自己的嵌入层，则将当前数据跑一边自己的嵌入层\r\n",
    "        if self.use_self_emb:  \r\n",
    "            x = self.emb_layer(x)\r\n",
    "        # 此时x默认是未经concat的emb_list，这里进行横向拼接，形成一个长的嵌入向量\r\n",
    "        x = paddle.concat(x, axis=-1)  \r\n",
    "        # 依次经过MB模块并对结果进行拼接，依旧形成一个长的嵌入向量\r\n",
    "        x = paddle.concat([self.mb_list[i](x, x) for i in range(len(self.mb_list))], axis=-1)  \r\n",
    "        # 将MB层的输出接入MLP层\r\n",
    "        x = self.mlp(x)  \r\n",
    "        # 如果使用自身的最后一层则直接出最终计算结果，否则返回最后一层隐层的数据\r\n",
    "        if self.use_last_fc:\r\n",
    "            x = self.fc(x)\r\n",
    "            return F.sigmoid(x)\r\n",
    "            \r\n",
    "        return x"
   ]
  },
  {
   "cell_type": "code",
   "execution_count": 75,
   "metadata": {
    "collapsed": false
   },
   "outputs": [],
   "source": [
    "class ModifyParaMaskNet(nn.Layer):\r\n",
    "    \"\"\"\r\n",
    "    对并行MaskNet结构进行改造，原来的模块都是利用基于bit-wise的交互方式，尝试加入vector-wise的交互方式\r\n",
    "    emb_dict: 原始cardi数量：嵌入维度\r\n",
    "    igm_reduce_r_list: 每个MB对应一个IGM, 因此其长度即为MB的数量，每个值为对应的IGM中缩减率\r\n",
    "    mb_hid_list: 每个MB对应一个hidden层，每个值为对应的隐层数量，如果不单独设置可以全部赋值为-1\r\n",
    "    mlp_size_list: DNN隐层维度列表\r\n",
    "        \r\n",
    "    \"\"\"\r\n",
    "    def __init__(self, emb_dict, igm_reduce_r_list, mb_hid_list, cin_hk_list, mlp_size_list, emb_out_size=EMB_OUT_SIZE, use_self_emb=True, use_last_fc=True):\r\n",
    "        super(ModifyParaMaskNet, self).__init__()\r\n",
    "        \r\n",
    "        self.emb_out_size = emb_out_size\r\n",
    "        self.use_last_fc = use_last_fc\r\n",
    "        \r\n",
    "        self.use_self_emb = use_self_emb\r\n",
    "        if use_self_emb:\r\n",
    "            self.emb_layer = EmbLayer(emb_dict, concat_axis=None)\r\n",
    "        \r\n",
    "        self.field_num = len(emb_dict)\r\n",
    "        self.emb_dim = emb_dict[0][1]\r\n",
    "\r\n",
    "        self.mb_list, self.mb_out_size = self.createMBlist(igm_reduce_r_list, mb_hid_list, self.emb_out_size)\r\n",
    "        \r\n",
    "        self.cin = CIN(batch_size=BATCH_SIZE, h_0=self.field_num, emb_dim=self.emb_dim, hk_list=cin_hk_list)\r\n",
    "        \r\n",
    "        mlp_size_list.insert(0, self.mb_out_size)  \r\n",
    "        if len(mlp_size_list) > 1:\r\n",
    "            self.mlp = MLP(mlp_size_list, bn=True, drop_out=True)\r\n",
    "        else:\r\n",
    "            self.mlp = None\r\n",
    "\r\n",
    "        self.last_input_dim = mlp_size_list[-1] + self.cin.cin_out_size + self.emb_out_size\r\n",
    "        if self.use_last_fc:\r\n",
    "            self.fc = nn.Linear(self.last_input_dim, 1)\r\n",
    "        \r\n",
    "    def createMBlist(self, igm_reduce_r_list, mb_hid_list, input_size):\r\n",
    "        mb_list = nn.LayerList()\r\n",
    "        mb_out_size = 0\r\n",
    "        \r\n",
    "        for i in range(len(igm_reduce_r_list)):\r\n",
    "            mb_list.append(MaskBlock(input_size, igm_reduce_r_list[i], mb_hid_list[i]))  # \r\n",
    "            mb_out_size += input_size if mb_hid_list[i] == -1 else mb_hid_list[i]\r\n",
    "            \r\n",
    "        return mb_list, mb_out_size\r\n",
    "        \r\n",
    "        \r\n",
    "    def forward(self, x):\r\n",
    "        if self.use_self_emb:\r\n",
    "            x = self.emb_layer(x)\r\n",
    "        # 此时x默认是未经concat的emb_list\r\n",
    "        x = paddle.concat(x, axis=-1)\r\n",
    "        \r\n",
    "        cin_in = paddle.reshape(x, shape=[x.shape[0], self.field_num, self.emb_dim])  # batch_size * field_num * emb_dim\r\n",
    "        cin_out = self.cin(cin_in)\r\n",
    "        pmb_out = paddle.concat([self.mb_list[i](x, x) for i in range(len(self.mb_list))], axis=-1)\r\n",
    "              \r\n",
    "        # x = paddle.concat([x_pm, cin_out], axis=-1)\r\n",
    "        if self.mlp is not None:\r\n",
    "            mlp_out = self.mlp(pmb_out)\r\n",
    "        else:\r\n",
    "            mlp_out = pmb_out\r\n",
    "            \r\n",
    "        x = paddle.concat([x, cin_out, mlp_out], axis=-1)\r\n",
    "        if self.use_last_fc:\r\n",
    "            x = self.fc(x)\r\n",
    "            return F.sigmoid(x)\r\n",
    "            \r\n",
    "        return x"
   ]
  },
  {
   "cell_type": "code",
   "execution_count": 32,
   "metadata": {
    "collapsed": false
   },
   "outputs": [
    {
     "data": {
      "text/plain": [
       "654"
      ]
     },
     "execution_count": 32,
     "metadata": {},
     "output_type": "execute_result"
    }
   ],
   "source": [
    "EMB_OUT_SIZE"
   ]
  },
  {
   "cell_type": "code",
   "execution_count": 33,
   "metadata": {
    "collapsed": false
   },
   "outputs": [],
   "source": [
    "class SerMaskNet(nn.Layer):\r\n",
    "    \"\"\"\r\n",
    "    序列MaskNet，类似于RNN的结构\r\n",
    "    :param emb_dict: [(原始种类数, 嵌入维度),...]\r\n",
    "    :param igm_reduce_r_list: list, 每个MB对应的缩减率\r\n",
    "    :param mb_hid_list: list, 每个MB对应的隐层维度\r\n",
    "    :param mlp_size_list: list, MLP各层尺寸\r\n",
    "    :param emb_out_size: 嵌入层输出总维度\r\n",
    "    :param use_self_emb: 是否使用自己的嵌入层\r\n",
    "    :param use_last_fc: 是否使用最后一层fc\r\n",
    "    :return: \r\n",
    "    \"\"\"\r\n",
    "    def __init__(self, emb_dict, igm_reduce_r_list, mb_hid_list, mlp_size_list, emb_out_size=EMB_OUT_SIZE, use_self_emb=True, use_last_fc=True):\r\n",
    "        super(SerMaskNet, self).__init__()\r\n",
    "        \r\n",
    "        self.emb_out_size = emb_out_size\r\n",
    "        self.use_last_fc = use_last_fc\r\n",
    "\r\n",
    "        self.use_self_emb = use_self_emb\r\n",
    "        if use_self_emb:\r\n",
    "            self.emb_layer = EmbLayer(emb_dict, concat_axis=None)\r\n",
    "\r\n",
    "        self.mb_list, self.mb_out_size = self.createMBlist(igm_reduce_r_list, mb_hid_list)\r\n",
    "        \r\n",
    "        mlp_size_list.insert(0, self.mb_out_size)  # mb层的输出\r\n",
    "        if len(mlp_size_list) > 1:\r\n",
    "            self.mlp = MLP(mlp_size_list, bn=True, drop_out=0.5)\r\n",
    "        else:\r\n",
    "            self.mlp = None\r\n",
    "\r\n",
    "        # 记录最后一层输入维度\r\n",
    "        self.last_input_dim = mlp_size_list[-1]\r\n",
    "        if self.use_last_fc:\r\n",
    "            self.fc = nn.Linear(self.last_input_dim, 1)\r\n",
    "    \r\n",
    "    def createMBlist(self, igm_reduce_r_list, mb_hid_list):\r\n",
    "        mb_list = nn.LayerList()\r\n",
    "        \r\n",
    "        for i in range(len(igm_reduce_r_list)):\r\n",
    "            if i == 0:  # 第一个MaskBlock是MaskBlock on Feature Embedding\r\n",
    "                mb_list.append(MaskBlock(self.emb_out_size, igm_reduce_r_list[i], mb_hid_list[i], mode=\"emb\"))\r\n",
    "            else:  # 其余MaskBlock都是MaskBlock on MaskBlock\r\n",
    "                mb_list.append(MaskBlock(self.emb_out_size, igm_reduce_r_list[i], mb_hid_list[i], mode=\"mb\"))  # \r\n",
    "            \r\n",
    "        return mb_list, mb_hid_list[-1]\r\n",
    "\r\n",
    "    \r\n",
    "    def forward(self, x):\r\n",
    "        if self.use_self_emb:\r\n",
    "            x = self.emb_layer(x)\r\n",
    "        # 此时x是尚未concat的emb list\r\n",
    "        x = paddle.concat(x, axis=-1)\r\n",
    "\r\n",
    "        x_left = x  # 左边部分是上一个MB的输出\r\n",
    "        x_right = x  # 右边部分是原始emb层的输出\r\n",
    "        for i in range(len(self.mb_list)):\r\n",
    "            x_left = self.mb_list[i](x_left, x_right)\r\n",
    "        \r\n",
    "        if self.mlp is not None:\r\n",
    "            x = self.mlp(x_left)\r\n",
    "        else:\r\n",
    "            x = x_left\r\n",
    "        \r\n",
    "        if self.use_last_fc:\r\n",
    "            x = self.fc(x)\r\n",
    "            return F.sigmoid(x)\r\n",
    "\r\n",
    "        return x\r\n",
    "        "
   ]
  },
  {
   "cell_type": "code",
   "execution_count": null,
   "metadata": {
    "collapsed": false
   },
   "outputs": [],
   "source": [
    "# 使用共同的embedding层，每个模型都可以修改\r\n",
    "# 取出每个模型最后的隐层参数，然后concat之后进行fc"
   ]
  },
  {
   "cell_type": "code",
   "execution_count": 22,
   "metadata": {
    "collapsed": false
   },
   "outputs": [],
   "source": [
    "class EnsembleModel(paddle.nn.Layer):\r\n",
    "    def __init__(self, emb_dim_dict=emb_dim_dict):\r\n",
    "        super(EnsembleModel, self).__init__()\r\n",
    "        self.use_self_emb = False  # 是否使用各自自己的emb层\r\n",
    "        if not self.use_self_emb:\r\n",
    "            self.emb_layer = EmbLayer(emb_dim_dict, concat_axis=None)\r\n",
    "\r\n",
    "        self.model_list = nn.LayerList([\r\n",
    "                            ParaMaskNet(emb_dict=emb_dim_dict, igm_reduce_r_list=[1, 2, 3], mb_hid_list=[512 * i for i in range(1, 4)], \r\n",
    "                                        mlp_size_list=[512, 128], emb_out_size=EMB_OUT_SIZE, use_self_emb=self.use_self_emb, use_last_fc=False), \r\n",
    "                            # DeepFM(emb_dict=emb_dim_dict, mlp_size_list=mlp_size_list, emb_out_size=EMB_OUT_SIZE, use_self_emb=self.use_self_emb, use_last_fc=False),\r\n",
    "                            SerMaskNet(emb_dict=emb_dim_dict, igm_reduce_r_list=[1, 2, 3], mb_hid_list=[-1, -1, 512], \r\n",
    "                                        mlp_size_list=[128], emb_out_size=EMB_OUT_SIZE, use_self_emb=self.use_self_emb, use_last_fc=False)\r\n",
    "                          ])\r\n",
    "        # 还要获取最后一层拼接之后的维度\r\n",
    "        last_input_dim = sum([m.last_input_dim for m in self.model_list])\r\n",
    "        self.fc = nn.Linear(last_input_dim, 1)\r\n",
    "\r\n",
    "\r\n",
    "    def forward(self, x):\r\n",
    "        if not self.use_self_emb:\r\n",
    "            x = self.emb_layer(x)\r\n",
    "        \r\n",
    "        out_list = [m(x) for m in self.model_list]\r\n",
    "        out = paddle.concat(out_list, axis=-1)\r\n",
    "        out = self.fc(out)\r\n",
    "        return F.sigmoid(out)"
   ]
  },
  {
   "cell_type": "markdown",
   "metadata": {
    "collapsed": false
   },
   "source": [
    "### xDeepFM"
   ]
  },
  {
   "cell_type": "code",
   "execution_count": 76,
   "metadata": {
    "collapsed": false
   },
   "outputs": [],
   "source": [
    "class CIN(paddle.nn.Layer):\r\n",
    "    def __init__(self, batch_size, h_0, emb_dim, hk_list=[100, 100, 50]):\r\n",
    "        super(CIN, self).__init__()\r\n",
    "        self.batch_size = batch_size\r\n",
    "        self.h_0 = h_0\r\n",
    "        self.emb_dim = emb_dim\r\n",
    "        self.hk_list = hk_list\r\n",
    "        self.wk_list, self.cin_out_size = self.create_cross_ws()\r\n",
    "        \r\n",
    "    def create_cross_ws(self):\r\n",
    "        cin_out_size = 0\r\n",
    "        # 创建对应每一层的权重(也就是滤波器)\r\n",
    "        self.hk_list.insert(0, self.h_0)\r\n",
    "        wk_list = paddle.nn.ParameterList()\r\n",
    "        for k in range(1, len(self.hk_list)):\r\n",
    "            w_k = paddle.static.create_parameter(shape=[self.hk_list[k-1] * self.h_0, self.hk_list[k]], \r\n",
    "                                                dtype=\"float32\")#, \r\n",
    "                                                #default_initializer=paddle.nn.initializer.Constant(1.0))\r\n",
    "            wk_list.append(w_k)\r\n",
    "            cin_out_size += self.hk_list[k]\r\n",
    "        return wk_list, cin_out_size\r\n",
    "    \r\n",
    "    def forward(self, x):\r\n",
    "        x_0 = x  # 原始输入\r\n",
    "        xk_list = [x_0]  # x_k各层的计算结果\r\n",
    "        sum_pool_list = []  # x_K各层的sum_pooling结果, 不包括第一层\r\n",
    "        # 分割原始输入\r\n",
    "        split_x_0 = paddle.split(x_0, self.emb_dim, axis=-1)\r\n",
    "        # 计算x_k\r\n",
    "        for k in range(len(self.hk_list)-1):\r\n",
    "            # 取出x(k-1)\r\n",
    "            x_km1 = xk_list[-1]\r\n",
    "            # 分割x(k-1)\r\n",
    "            split_x_km1 = paddle.split(x_km1, self.emb_dim, -1)\r\n",
    "            # 计算x(k-1) 与 x(0)的外积 -> zk\r\n",
    "            z_k = paddle.concat([paddle.matmul(split_x_km1[i], split_x_0[i], transpose_y=True).unsqueeze(0) \r\n",
    "                                                for i in range(self.emb_dim)], axis=0)  # emb_dim * batch_size * h_km1 * h_0\r\n",
    "            z_k = paddle.transpose(z_k, perm=[1, 0, 2, 3])  # batch_size * emb_dim * h_km1 * h_0\r\n",
    "            # 将zk最后两维拉成一维\r\n",
    "            z_k = paddle.reshape(z_k, shape=[z_k.shape[0], self.emb_dim, -1])  # batch_size * emb_dim * (h_km1 * h_0)\r\n",
    "            # 计算x_k = w * z_k\r\n",
    "            x_k = paddle.matmul(z_k, self.wk_list[k])  # batch_size * emb_dim * h_k\r\n",
    "            # 转置为正常形状\r\n",
    "            x_k = paddle.transpose(x_k, perm=[0, 2, 1])  # batch_size * h_k * emb_dim\r\n",
    "            # 存储x_k\r\n",
    "            xk_list.append(x_k)\r\n",
    "            # 计算sum_pooling\r\n",
    "            sum_pool_list.append(paddle.sum(x_k, axis=-1))\r\n",
    "            #print(x_k.shape)\r\n",
    "        \r\n",
    "        # concat sum_pooling的结果\r\n",
    "        return paddle.concat(sum_pool_list, axis=-1)"
   ]
  },
  {
   "cell_type": "code",
   "execution_count": null,
   "metadata": {
    "collapsed": false
   },
   "outputs": [],
   "source": [
    "class xDeepFM(nn.Layer):\r\n",
    "    def __init__(self, batch_size, emb_dict, emb_dim, cin_hk_list, mlp_size_list):\r\n",
    "        super(xDeepFM, self).__init__()\r\n",
    "        self.emb_layer = EmbLayer(emb_dict)\r\n",
    "        self.field_num = len(emb_dict)\r\n",
    "        self.batch_size = batch_size\r\n",
    "        self.emb_dim = emb_dim\r\n",
    "        self.cin = CIN(batch_size=batch_size, h_0=self.field_num, emb_dim=emb_dim, hk_list=cin_hk_list)\r\n",
    "\r\n",
    "        # 嵌入总维度 = 域数量 * 单个嵌入维度\r\n",
    "        mlp_size_list.insert(0, self.emb_layer.emb_out_size)  # 域数量 * 嵌入维度\r\n",
    "        self.mlp = MLP(mlp_size_list, bn=True, drop_out=True)\r\n",
    "        self.fc = nn.Linear(self.emb_layer.emb_out_size + self.cin.cin_out_size + mlp_size_list[-1], 1)\r\n",
    "    \r\n",
    "    def forward(self, x):\r\n",
    "        x = self.emb_layer(x)  # batch_size * (field_num * emb_dim)\r\n",
    "        # 将原始一维嵌入转换为二维的形式\r\n",
    "        cin_in = paddle.reshape(x, shape=[x.shape[0], self.field_num, self.emb_dim])  # batch_size * field_num * emb_dim\r\n",
    "        # 计算cin的输出\r\n",
    "        cin_out = self.cin(cin_in)\r\n",
    "        # 计算mlp的输出\r\n",
    "        mlp_out = self.mlp(x)\r\n",
    "        # 拼接 原始嵌入 CIN MLP\r\n",
    "        x = paddle.concat([x, cin_out, mlp_out], axis=-1)\r\n",
    "        x = F.sigmoid(self.fc(x))\r\n",
    "        return x\r\n"
   ]
  },
  {
   "cell_type": "code",
   "execution_count": null,
   "metadata": {
    "collapsed": false
   },
   "outputs": [
    {
     "name": "stderr",
     "output_type": "stream",
     "text": [
      "/opt/conda/envs/python35-paddle120-env/lib/python3.7/site-packages/ipykernel_launcher.py:1: DeprecationWarning: `np.int` is a deprecated alias for the builtin `int`. To silence this warning, use `int` by itself. Doing this will not modify any behavior and is safe. When replacing `np.int`, you may wish to use e.g. `np.int64` or `np.int32` to specify the precision. If you wish to review your current use, check the release note link for additional information.\n",
      "Deprecated in NumPy 1.20; for more details and guidance: https://numpy.org/devdocs/release/1.20.0-notes.html#deprecations\n",
      "  \"\"\"Entry point for launching an IPython kernel.\n"
     ]
    }
   ],
   "source": [
    "emb_dict =  list(zip(cardi, [6 * np.int(np.power(c, 0.25)) for c in cardi]))"
   ]
  },
  {
   "cell_type": "code",
   "execution_count": null,
   "metadata": {
    "collapsed": false
   },
   "outputs": [],
   "source": [
    "class PlainDNN(nn.Layer):\r\n",
    "    def __init__(self, emb_dict, emb_dim, mlp_size_list):\r\n",
    "        super(PlainDNN, self).__init__()\r\n",
    "        self.emb_layer = EmbLayer(emb_dict, concat_axis=None)\r\n",
    "        mlp_size_list.insert(0, self.emb_layer.emb_out_size)\r\n",
    "        self.mlp = MLP(mlp_size_list, bn=True, drop_out=True)\r\n",
    "        self.fc = nn.Linear(mlp_size_list[-1], 1)\r\n",
    "    \r\n",
    "    def forward(self, x):\r\n",
    "        x = self.emb_layer(x)\r\n",
    "        x = paddle.concat(x, axis=-1)\r\n",
    "        x = self.mlp(x)\r\n",
    "        x = F.sigmoid(self.fc(x))\r\n",
    "        return x"
   ]
  },
  {
   "cell_type": "markdown",
   "metadata": {
    "collapsed": false
   },
   "source": [
    "### DeepFM"
   ]
  },
  {
   "cell_type": "code",
   "execution_count": null,
   "metadata": {
    "collapsed": false
   },
   "outputs": [],
   "source": [
    "class DeepFM(nn.Layer):\r\n",
    "    def __init__(self, emb_dict, mlp_size_list, emb_out_size=EMB_OUT_SIZE, use_self_emb=True, use_last_fc=True):\r\n",
    "        super(DeepFM, self).__init__()\r\n",
    "        \r\n",
    "        self.use_self_emb = use_self_emb\r\n",
    "        self.use_last_fc = use_last_fc\r\n",
    "        # embedding\r\n",
    "        feat_num = len(emb_dict)\r\n",
    "        if self.use_self_emb:\r\n",
    "            self.emb_layer = EmbLayer(emb_dict, concat_axis=None)\r\n",
    "\r\n",
    "        self.cross_w_list = nn.ParameterList([paddle.static.create_parameter(shape=[1, 32], dtype=\"float32\")] * feat_num)  # 为每个特征域生成一个对应的可学习参数，用于交叉\r\n",
    "        self.emb_out_size = emb_out_size\r\n",
    "\r\n",
    "        self.sum_w_list = nn.ParameterList([paddle.static.create_parameter(shape=[1, 1], dtype=\"float32\")] * \r\n",
    "                                          ((feat_num * (feat_num-1))//2 + feat_num))\r\n",
    "        # mlp\r\n",
    "        mlp_size_list.insert(0, self.emb_out_size)\r\n",
    "        self.mlp = MLP(mlp_size_list, bn=True, drop_out=True)\r\n",
    "        \r\n",
    "        # print(self.emb_out_size)\r\n",
    "        self.last_input_dim = self.emb_out_size//feat_num + mlp_size_list[-1]\r\n",
    "        # 拼接fm和mlp\r\n",
    "        if self.use_last_fc:\r\n",
    "            self.fc = nn.Linear(self.last_input_dim, 1)\r\n",
    "        \r\n",
    "    def crossFeats(self, emb_out_list):\r\n",
    "        cross_out_list = []\r\n",
    "        # 对应位置权重相乘\r\n",
    "        for i in range(len(emb_out_list)):\r\n",
    "            for j in range(i+1, len(emb_out_list)):\r\n",
    "                cross_out_list.append(self.cross_w_list[i].dot(self.cross_w_list[j]) * emb_out_list[i] * emb_out_list[j])\r\n",
    "        return cross_out_list\r\n",
    "    \r\n",
    "    def sumFeats(self, cross_list):\r\n",
    "        out = paddle.zeros_like(cross_list[0])\r\n",
    "        for i in range(len(cross_list)):\r\n",
    "            out += self.sum_w_list[i] * cross_list[i]\r\n",
    "        return out\r\n",
    "    \r\n",
    "    def forward(self, x):\r\n",
    "        # 对所有特征进行依次嵌入\r\n",
    "        if self.use_self_emb:\r\n",
    "            emb_out_list = self.emb_layer(x)\r\n",
    "        else:  # 如果不使用自己的emb层，公用层输出默认就是emb之后的List\r\n",
    "            emb_out_list = x\r\n",
    "\r\n",
    "        # 计算二阶特征交叉，返回交叉后的List\r\n",
    "        cross_out_list = self.crossFeats(emb_out_list)\r\n",
    "        # 将所有交叉过的2阶特征和原始1阶特征concat\r\n",
    "        #shallow_out = paddle.concat(emb_out_list + cross_out_list, axis=1)\r\n",
    "        # 将一阶特征(原始emb输出)和二阶交叉list拼接之后求和\r\n",
    "        shallow_out = self.sumFeats(emb_out_list + cross_out_list)  # bz * (n + (n-1)*n/2) * emb_dim -> bz * emb_dim\r\n",
    "        \r\n",
    "        # DNN输出\r\n",
    "        deep_out = self.mlp(paddle.concat(emb_out_list, axis=1))\r\n",
    "        \r\n",
    "        out = paddle.concat([shallow_out, deep_out], axis=-1)\r\n",
    "        \r\n",
    "        if self.use_last_fc:\r\n",
    "            out = self.fc(out)\r\n",
    "            return F.sigmoid(out)\r\n",
    "        # 如果不使用最后一层fc，则直接把当前模型训练的最后一个隐层输出，用于模型融合\r\n",
    "        return out"
   ]
  },
  {
   "cell_type": "markdown",
   "metadata": {
    "collapsed": false
   },
   "source": [
    "### DeepFFM"
   ]
  },
  {
   "cell_type": "code",
   "execution_count": null,
   "metadata": {
    "collapsed": false
   },
   "outputs": [],
   "source": [
    "class DeepFFM(nn.Layer):\r\n",
    "    def __init__(self, cardi_dict, emb_dim, dnn_list):\r\n",
    "        super(DeepFFM, self).__init__()\r\n",
    "        \r\n",
    "        self.cardi_dict = cardi_dict\r\n",
    "        self.emb_layers = nn.LayerList()\r\n",
    "        self.cross_w_list = nn.ParameterList()\r\n",
    "        \r\n",
    "        self.emb_dim_sum = self.createEmbeddingLayers(emb_dim)\r\n",
    "        \r\n",
    "        dnn_list.insert(0, self.emb_dim_sum)\r\n",
    "        self.mlp = MLP(dnn_list, bn=True, drop_out=True)\r\n",
    "        feat_num = len(cardi_dict)\r\n",
    "        self.sum_w_list = nn.ParameterList([paddle.static.create_parameter(shape=[1, 1], dtype=\"float32\")] * \r\n",
    "                                          (np.int(np.power(feat_num-1, 2)) + feat_num))\r\n",
    "        #last_dim = np.int(np.power(feat_num-1, 2)) * emb_dim + feat_num * emb_dim + dnn_list[-1]\r\n",
    "        last_dim = emb_dim + dnn_list[-1]\r\n",
    "        self.fc = nn.Linear(last_dim, 1)\r\n",
    "        \r\n",
    "    def createEmbeddingLayers(self, emb_dim):\r\n",
    "        emb_dim_sum = 0\r\n",
    "        for feat in feat_list:\r\n",
    "            cardi = self.cardi_dict[feat]\r\n",
    "            self.emb_layers.append(nn.Embedding(cardi, emb_dim))\r\n",
    "            # 每个特征域对应一个权重矩阵: emb_dim * m\r\n",
    "            w_dim = 16\r\n",
    "            self.cross_w_list.append(paddle.static.create_parameter(shape=[emb_dim, w_dim], dtype=\"float32\"))  \r\n",
    "            emb_dim_sum += emb_dim\r\n",
    "        \r\n",
    "        return emb_dim_sum\r\n",
    "    \r\n",
    "    def crossFeats(self, emb_out_list):\r\n",
    "        cross_out_list = []\r\n",
    "        # 对应位置权重相乘\r\n",
    "        for i in range(len(emb_out_list)):\r\n",
    "            for j in range(len(emb_out_list)):\r\n",
    "                if i == j: \r\n",
    "                    break\r\n",
    "                hadma_prod = emb_out_list[i] * emb_out_list[j]\r\n",
    "                w_prod = paddle.matmul(self.cross_w_list[i], self.cross_w_list[j], transpose_y=True)\r\n",
    "                w_emb_prod = paddle.matmul(w_prod, hadma_prod, transpose_y=True)\r\n",
    "                cross_out_list.append(paddle.transpose(w_emb_prod, perm=[1, 0]))\r\n",
    "        return cross_out_list\r\n",
    "    \r\n",
    "    def sumFeats(self, cross_list):\r\n",
    "        out = paddle.zeros_like(cross_list[0])\r\n",
    "        for i in range(len(cross_list)):\r\n",
    "            out += self.sum_w_list[i] * cross_list[i]\r\n",
    "        return out\r\n",
    "    \r\n",
    "    def forward(self, x):\r\n",
    "        # 对所有特征进行依次嵌入\r\n",
    "        emb_out_list = [self.emb_layers[i](x[:, i]) for i in range(len(self.emb_layers))]\r\n",
    "        # 对所有特征进行交叉\r\n",
    "        cross_out_list = self.crossFeats(emb_out_list)\r\n",
    "        # 将所有交叉过的2阶特征和原始1阶特征concat\r\n",
    "        #shallow_out = paddle.concat(emb_out_list + cross_out_list, axis=1)\r\n",
    "        shallow_out = self.sumFeats(emb_out_list + cross_out_list)  # bz * 64\r\n",
    "        \r\n",
    "        # DNN输出\r\n",
    "        deep_out = self.mlp(paddle.concat(emb_out_list, axis=1))\r\n",
    "        \r\n",
    "        out = paddle.concat([shallow_out, deep_out], axis=-1)\r\n",
    "        \r\n",
    "        out = self.fc(out)\r\n",
    "        return F.sigmoid(out)"
   ]
  },
  {
   "cell_type": "markdown",
   "metadata": {
    "collapsed": false
   },
   "source": [
    "### 模型实例化"
   ]
  },
  {
   "cell_type": "code",
   "execution_count": null,
   "metadata": {
    "collapsed": false
   },
   "outputs": [
    {
     "name": "stderr",
     "output_type": "stream",
     "text": [
      "/opt/conda/envs/python35-paddle120-env/lib/python3.7/site-packages/ipykernel_launcher.py:15: DeprecationWarning: `np.int` is a deprecated alias for the builtin `int`. To silence this warning, use `int` by itself. Doing this will not modify any behavior and is safe. When replacing `np.int`, you may wish to use e.g. `np.int64` or `np.int32` to specify the precision. If you wish to review your current use, check the release note link for additional information.\n",
      "Deprecated in NumPy 1.20; for more details and guidance: https://numpy.org/devdocs/release/1.20.0-notes.html#deprecations\n",
      "  from ipykernel import kernelapp as app\n"
     ]
    }
   ],
   "source": [
    "model_dffm = DeepFFM(cardi_dict=cardi_dict, emb_dim=64, dnn_list=[512, 256, 64])"
   ]
  },
  {
   "cell_type": "code",
   "execution_count": null,
   "metadata": {
    "collapsed": false
   },
   "outputs": [],
   "source": [
    "mlp_size_list = [512, 256, 64]#[400, 400, 400]#[512, 256, 64] 倒金字塔结构效果要稍微比全相同结构效果好点"
   ]
  },
  {
   "cell_type": "code",
   "execution_count": null,
   "metadata": {
    "collapsed": false
   },
   "outputs": [
    {
     "data": {
      "text/plain": [
       "704"
      ]
     },
     "execution_count": null,
     "metadata": {},
     "output_type": "execute_result"
    }
   ],
   "source": [
    "EMB_OUT_SIZE"
   ]
  },
  {
   "cell_type": "code",
   "execution_count": null,
   "metadata": {
    "collapsed": false
   },
   "outputs": [],
   "source": [
    "model_dfm = DeepFM(emb_dict=emb_dim_dict, mlp_size_list=[512, 256, 64], emb_out_size=EMB_OUT_SIZE, use_self_emb=True, use_last_fc=True)\r\n",
    "#model_dfm = DeepFM(cardi_dict=cardi_dict, emb_dim=64, dnn_list=[512, 256, 64])\r\n",
    "#optimizer = optim.Adam(parameters=model_dfm.parameters(), learning_rate=0.01, weight_decay=0.01)"
   ]
  },
  {
   "cell_type": "code",
   "execution_count": null,
   "metadata": {
    "collapsed": false
   },
   "outputs": [],
   "source": [
    "model_xdfm = xDeepFM(batch_size=BATCH_SIZE, \r\n",
    "                    emb_dict=emb_dim_dict, \r\n",
    "                    emb_dim=CIN_EMB_DIM, \r\n",
    "                    cin_hk_list=CIN_HK_LIST, \r\n",
    "                    mlp_size_list=[512, 256, 64])#[256, 256, 32])#[512, 256, 64])#[128, 256, 64])"
   ]
  },
  {
   "cell_type": "code",
   "execution_count": null,
   "metadata": {
    "collapsed": false
   },
   "outputs": [],
   "source": [
    "igm_reduce_r_list = [i for i in range(1, MB_NUMS+1)]\r\n",
    "mlp_size_list=[512, 256, 64]#[400, 400, 400]#[512, 256, 64]  # [400, 400, 400]"
   ]
  },
  {
   "cell_type": "code",
   "execution_count": null,
   "metadata": {
    "collapsed": false
   },
   "outputs": [
    {
     "data": {
      "text/plain": [
       "704"
      ]
     },
     "execution_count": null,
     "metadata": {},
     "output_type": "execute_result"
    }
   ],
   "source": [
    "EMB_OUT_SIZE"
   ]
  },
  {
   "cell_type": "code",
   "execution_count": null,
   "metadata": {
    "collapsed": false
   },
   "outputs": [],
   "source": [
    "model_pmb = ParaMaskNet(emb_dict=emb_dim_dict, \r\n",
    "                        igm_reduce_r_list=[1, 2, 3], \r\n",
    "                        mb_hid_list=[512, 512, 512], \r\n",
    "                        mlp_size_list=[512, 256, 64])"
   ]
  },
  {
   "cell_type": "code",
   "execution_count": null,
   "metadata": {
    "collapsed": false
   },
   "outputs": [],
   "source": [
    "model_smb = SerMaskNet(emb_dict=emb_dim_dict, \r\n",
    "                        igm_reduce_r_list=igm_reduce_r_list, \r\n",
    "                        mb_hid_list=[-1] * MB_NUMS, \r\n",
    "                        mlp_size_list=mlp_size_list)"
   ]
  },
  {
   "cell_type": "code",
   "execution_count": null,
   "metadata": {
    "collapsed": false
   },
   "outputs": [],
   "source": [
    "model_ensem = EnsembleModel(emb_dim_dict)"
   ]
  },
  {
   "cell_type": "markdown",
   "metadata": {
    "collapsed": false
   },
   "source": [
    "### 定义模型训练函数"
   ]
  },
  {
   "cell_type": "code",
   "execution_count": 26,
   "metadata": {
    "collapsed": false
   },
   "outputs": [],
   "source": [
    "def getTrue(a, b):\r\n",
    "    res = 0\r\n",
    "    for i in range(len(a)):\r\n",
    "        if a[i] == b[i]:\r\n",
    "            res += 1\r\n",
    "    return res"
   ]
  },
  {
   "cell_type": "code",
   "execution_count": 27,
   "metadata": {
    "collapsed": false
   },
   "outputs": [],
   "source": [
    "def validation(model, loss_fn, data_loader, mode=\"valid\"):\r\n",
    "    model.eval()\r\n",
    "    acc = 0\r\n",
    "    loss_ave = 0\r\n",
    "    for idx, (x, y) in enumerate(data_loader):\r\n",
    "        y = y.numpy()\r\n",
    "        x = paddle.to_tensor(x)\r\n",
    "        y = paddle.to_tensor(y, dtype=\"float32\")\r\n",
    "        y_pre = model(x)\r\n",
    "        y_pre = y_pre.squeeze(-1)\r\n",
    "        loss = loss_fn(y_pre, y)\r\n",
    "        loss_ave += loss.numpy()[0]\r\n",
    "        a = y_pre.numpy()\r\n",
    "        a = list(map(lambda x: 1 if x >= 0.5 else 0, a))\r\n",
    "        b = y.numpy()\r\n",
    "        b = list(map(lambda x: np.int(x), b))\r\n",
    "        acc += getTrue(a, b)\r\n",
    "    acc /= len(data_loader) * BATCH_SIZE\r\n",
    "    loss_ave /= len(data_loader) * BATCH_SIZE\r\n",
    "    print(mode + f\":loss_ave:{loss_ave}, acc:{acc}\")\r\n",
    "    model.train()\r\n",
    "    return acc"
   ]
  },
  {
   "cell_type": "code",
   "execution_count": 28,
   "metadata": {
    "collapsed": false
   },
   "outputs": [],
   "source": [
    "def trainModel(model, loss_fn, optimizer, device, data_loader, start_epoch=0, epoches=10, model_name=\"DNN\", start_save_acc=0.8801, use_all_data=USE_ALL_DATA):\r\n",
    "    print(device)\r\n",
    "    paddle.set_device(device)\r\n",
    "    model.train()\r\n",
    "    loss_list = []\r\n",
    "    loss_min = 9999\r\n",
    "    acc_list = []\r\n",
    "    acc_max = start_save_acc\r\n",
    "    #for epoch in range(epoches):\r\n",
    "    for epoch in range(start_epoch, start_epoch + epoches):\r\n",
    "        epoch_ave_loss = 0\r\n",
    "        for idx, (x, y) in enumerate(data_loader):\r\n",
    "            y = y.numpy()\r\n",
    "            x = paddle.to_tensor(x)\r\n",
    "            y = paddle.to_tensor(y, dtype=\"float32\")\r\n",
    "            y_pre = model(x)\r\n",
    "            y_pre = y_pre.squeeze(-1)\r\n",
    "            loss = loss_fn(y_pre, y)\r\n",
    "            \r\n",
    "            epoch_ave_loss += loss.numpy()[0]\r\n",
    "            if idx % 500 == 0:\r\n",
    "                print(f\"epoch:{epoch}, idx:{idx}, batch_sum_loss:{loss.numpy()[0]}\")\r\n",
    "\r\n",
    "            loss.backward()\r\n",
    "            optimizer.step()\r\n",
    "            optimizer.clear_grad()\r\n",
    "        \r\n",
    "        epoch_ave_loss /= len(data_loader) * BATCH_SIZE\r\n",
    "        loss_list.append(epoch_ave_loss)\r\n",
    "        print(f\"epoch:{epoch}, ave_loss:{epoch_ave_loss}\")\r\n",
    "        \r\n",
    "        \r\n",
    "\r\n",
    "        # 计算训练集准确率\r\n",
    "        train_acc = validation(model, loss_fn, data_loader, mode=\"train\")\r\n",
    "        \r\n",
    "        if not use_all_data:\r\n",
    "            acc = validation(model, loss_fn, valid_loader)\r\n",
    "            acc_list.append(acc)\r\n",
    "            if acc > acc_max:\r\n",
    "                acc_max = acc\r\n",
    "                paddle.save(model.state_dict(), \"./work/\" + model_name + \"_acc_epoch\" + str(epoch) + \".pdparams\")\r\n",
    "        else:\r\n",
    "            if epoch_ave_loss < loss_min:\r\n",
    "                loss_min = epoch_ave_loss\r\n",
    "                paddle.save(model.state_dict(), \"./work/\" + model_name + \"_loss_epoch\" + str(epoch) + \".pdparams\")\r\n",
    "        print(\"-------------------------------------------------------------------\")\r\n",
    "        \r\n",
    "        if epoch_ave_loss < 0.27:\r\n",
    "            print(\"Early Stopping!\")\r\n",
    "            return loss_list, acc_list\r\n",
    "\r\n",
    "    return loss_list, acc_list\r\n",
    "            "
   ]
  },
  {
   "cell_type": "markdown",
   "metadata": {
    "collapsed": false
   },
   "source": [
    "### 模型训练"
   ]
  },
  {
   "cell_type": "code",
   "execution_count": 29,
   "metadata": {
    "collapsed": false
   },
   "outputs": [],
   "source": [
    "loss_fn = nn.BCELoss(reduction=\"sum\")\r\n",
    "device = paddle.get_device()"
   ]
  },
  {
   "cell_type": "code",
   "execution_count": null,
   "metadata": {
    "collapsed": false
   },
   "outputs": [
    {
     "name": "stdout",
     "output_type": "stream",
     "text": [
      "gpu:0\n",
      "epoch:3, idx:0, batch_sum_loss:44.73744583129883\n"
     ]
    },
    {
     "name": "stderr",
     "output_type": "stream",
     "text": [
      "/opt/conda/envs/python35-paddle120-env/lib/python3.7/site-packages/ipykernel_launcher.py:11: DeprecationWarning: `np.int` is a deprecated alias for the builtin `int`. To silence this warning, use `int` by itself. Doing this will not modify any behavior and is safe. When replacing `np.int`, you may wish to use e.g. `np.int64` or `np.int32` to specify the precision. If you wish to review your current use, check the release note link for additional information.\n",
      "Deprecated in NumPy 1.20; for more details and guidance: https://numpy.org/devdocs/release/1.20.0-notes.html#deprecations\n",
      "  # This is added back by InteractiveShellApp.init_path()\n"
     ]
    },
    {
     "name": "stdout",
     "output_type": "stream",
     "text": [
      "epoch:3, idx:500, batch_sum_loss:34.55804443359375\n",
      "epoch:3, idx:1000, batch_sum_loss:31.3226375579834\n",
      "epoch:3, idx:1500, batch_sum_loss:38.73979568481445\n",
      "epoch:3, ave_loss:0.13989192146523957\n"
     ]
    },
    {
     "name": "stderr",
     "output_type": "stream",
     "text": [
      "/opt/conda/envs/python35-paddle120-env/lib/python3.7/site-packages/ipykernel_launcher.py:16: DeprecationWarning: `np.int` is a deprecated alias for the builtin `int`. To silence this warning, use `int` by itself. Doing this will not modify any behavior and is safe. When replacing `np.int`, you may wish to use e.g. `np.int64` or `np.int32` to specify the precision. If you wish to review your current use, check the release note link for additional information.\n",
      "Deprecated in NumPy 1.20; for more details and guidance: https://numpy.org/devdocs/release/1.20.0-notes.html#deprecations\n",
      "  app.launch_new_instance()\n"
     ]
    },
    {
     "name": "stdout",
     "output_type": "stream",
     "text": [
      "valid_loss_ave:0.3035193509137144, acc:0.8828523596938775\n",
      "-------------------------------------------------------------------\n",
      "epoch:4, idx:0, batch_sum_loss:37.36035919189453\n",
      "epoch:4, idx:500, batch_sum_loss:23.54827117919922\n",
      "epoch:4, idx:1000, batch_sum_loss:22.998573303222656\n"
     ]
    },
    {
     "ename": "KeyboardInterrupt",
     "evalue": "",
     "output_type": "error",
     "traceback": [
      "\u001b[0;31m---------------------------------------------------------------------------\u001b[0m",
      "\u001b[0;31mKeyboardInterrupt\u001b[0m                         Traceback (most recent call last)",
      "\u001b[0;32m<ipython-input-94-e5ea07914a0a>\u001b[0m in \u001b[0;36m<module>\u001b[0;34m\u001b[0m\n\u001b[1;32m      2\u001b[0m \u001b[0mmodel_dfm\u001b[0m\u001b[0;34m.\u001b[0m\u001b[0mset_state_dict\u001b[0m\u001b[0;34m(\u001b[0m\u001b[0mmodel_param\u001b[0m\u001b[0;34m)\u001b[0m\u001b[0;34m\u001b[0m\u001b[0;34m\u001b[0m\u001b[0m\n\u001b[1;32m      3\u001b[0m \u001b[0moptimizer\u001b[0m \u001b[0;34m=\u001b[0m \u001b[0moptim\u001b[0m\u001b[0;34m.\u001b[0m\u001b[0mAdam\u001b[0m\u001b[0;34m(\u001b[0m\u001b[0mparameters\u001b[0m\u001b[0;34m=\u001b[0m\u001b[0mmodel_dfm\u001b[0m\u001b[0;34m.\u001b[0m\u001b[0mparameters\u001b[0m\u001b[0;34m(\u001b[0m\u001b[0;34m)\u001b[0m\u001b[0;34m,\u001b[0m \u001b[0mlearning_rate\u001b[0m\u001b[0;34m=\u001b[0m\u001b[0;36m0.00001\u001b[0m\u001b[0;34m,\u001b[0m \u001b[0mweight_decay\u001b[0m\u001b[0;34m=\u001b[0m\u001b[0;36m0.01\u001b[0m\u001b[0;34m)\u001b[0m\u001b[0;34m\u001b[0m\u001b[0;34m\u001b[0m\u001b[0m\n\u001b[0;32m----> 4\u001b[0;31m \u001b[0mloss_list\u001b[0m\u001b[0;34m,\u001b[0m \u001b[0macc_list\u001b[0m \u001b[0;34m=\u001b[0m \u001b[0mtrainModel\u001b[0m\u001b[0;34m(\u001b[0m\u001b[0mmodel_dfm\u001b[0m\u001b[0;34m,\u001b[0m \u001b[0mloss_fn\u001b[0m\u001b[0;34m,\u001b[0m \u001b[0moptimizer\u001b[0m\u001b[0;34m,\u001b[0m \u001b[0mdevice\u001b[0m\u001b[0;34m,\u001b[0m \u001b[0mtrain_loader\u001b[0m\u001b[0;34m,\u001b[0m \u001b[0mstart_epoch\u001b[0m\u001b[0;34m=\u001b[0m\u001b[0;36m3\u001b[0m\u001b[0;34m,\u001b[0m \u001b[0mepoches\u001b[0m\u001b[0;34m=\u001b[0m\u001b[0;36m20\u001b[0m\u001b[0;34m,\u001b[0m \u001b[0mmodel_name\u001b[0m\u001b[0;34m=\u001b[0m\u001b[0;34m\"dfm\"\u001b[0m\u001b[0;34m,\u001b[0m \u001b[0mstart_save_acc\u001b[0m\u001b[0;34m=\u001b[0m\u001b[0;36m0.884\u001b[0m\u001b[0;34m)\u001b[0m\u001b[0;34m\u001b[0m\u001b[0;34m\u001b[0m\u001b[0m\n\u001b[0m",
      "\u001b[0;32m<ipython-input-33-b346cd0a0da0>\u001b[0m in \u001b[0;36mtrainModel\u001b[0;34m(model, loss_fn, optimizer, device, data_loader, start_epoch, epoches, model_name, start_save_acc)\u001b[0m\n\u001b[1;32m     14\u001b[0m             \u001b[0mx\u001b[0m \u001b[0;34m=\u001b[0m \u001b[0mpaddle\u001b[0m\u001b[0;34m.\u001b[0m\u001b[0mto_tensor\u001b[0m\u001b[0;34m(\u001b[0m\u001b[0mx\u001b[0m\u001b[0;34m)\u001b[0m\u001b[0;34m\u001b[0m\u001b[0;34m\u001b[0m\u001b[0m\n\u001b[1;32m     15\u001b[0m             \u001b[0my\u001b[0m \u001b[0;34m=\u001b[0m \u001b[0mpaddle\u001b[0m\u001b[0;34m.\u001b[0m\u001b[0mto_tensor\u001b[0m\u001b[0;34m(\u001b[0m\u001b[0my\u001b[0m\u001b[0;34m,\u001b[0m \u001b[0mdtype\u001b[0m\u001b[0;34m=\u001b[0m\u001b[0;34m\"float32\"\u001b[0m\u001b[0;34m)\u001b[0m\u001b[0;34m\u001b[0m\u001b[0;34m\u001b[0m\u001b[0m\n\u001b[0;32m---> 16\u001b[0;31m             \u001b[0my_pre\u001b[0m \u001b[0;34m=\u001b[0m \u001b[0mmodel\u001b[0m\u001b[0;34m(\u001b[0m\u001b[0mx\u001b[0m\u001b[0;34m)\u001b[0m\u001b[0;34m\u001b[0m\u001b[0;34m\u001b[0m\u001b[0m\n\u001b[0m\u001b[1;32m     17\u001b[0m             \u001b[0my_pre\u001b[0m \u001b[0;34m=\u001b[0m \u001b[0my_pre\u001b[0m\u001b[0;34m.\u001b[0m\u001b[0msqueeze\u001b[0m\u001b[0;34m(\u001b[0m\u001b[0;34m-\u001b[0m\u001b[0;36m1\u001b[0m\u001b[0;34m)\u001b[0m\u001b[0;34m\u001b[0m\u001b[0;34m\u001b[0m\u001b[0m\n\u001b[1;32m     18\u001b[0m             \u001b[0mloss\u001b[0m \u001b[0;34m=\u001b[0m \u001b[0mloss_fn\u001b[0m\u001b[0;34m(\u001b[0m\u001b[0my_pre\u001b[0m\u001b[0;34m,\u001b[0m \u001b[0my\u001b[0m\u001b[0;34m)\u001b[0m\u001b[0;34m\u001b[0m\u001b[0;34m\u001b[0m\u001b[0m\n",
      "\u001b[0;32m/opt/conda/envs/python35-paddle120-env/lib/python3.7/site-packages/paddle/fluid/dygraph/layers.py\u001b[0m in \u001b[0;36m__call__\u001b[0;34m(self, *inputs, **kwargs)\u001b[0m\n\u001b[1;32m    896\u001b[0m                 \u001b[0mself\u001b[0m\u001b[0;34m.\u001b[0m\u001b[0m_built\u001b[0m \u001b[0;34m=\u001b[0m \u001b[0;32mTrue\u001b[0m\u001b[0;34m\u001b[0m\u001b[0;34m\u001b[0m\u001b[0m\n\u001b[1;32m    897\u001b[0m \u001b[0;34m\u001b[0m\u001b[0m\n\u001b[0;32m--> 898\u001b[0;31m             \u001b[0moutputs\u001b[0m \u001b[0;34m=\u001b[0m \u001b[0mself\u001b[0m\u001b[0;34m.\u001b[0m\u001b[0mforward\u001b[0m\u001b[0;34m(\u001b[0m\u001b[0;34m*\u001b[0m\u001b[0minputs\u001b[0m\u001b[0;34m,\u001b[0m \u001b[0;34m**\u001b[0m\u001b[0mkwargs\u001b[0m\u001b[0;34m)\u001b[0m\u001b[0;34m\u001b[0m\u001b[0;34m\u001b[0m\u001b[0m\n\u001b[0m\u001b[1;32m    899\u001b[0m \u001b[0;34m\u001b[0m\u001b[0m\n\u001b[1;32m    900\u001b[0m             \u001b[0;32mfor\u001b[0m \u001b[0mforward_post_hook\u001b[0m \u001b[0;32min\u001b[0m \u001b[0mself\u001b[0m\u001b[0;34m.\u001b[0m\u001b[0m_forward_post_hooks\u001b[0m\u001b[0;34m.\u001b[0m\u001b[0mvalues\u001b[0m\u001b[0;34m(\u001b[0m\u001b[0;34m)\u001b[0m\u001b[0;34m:\u001b[0m\u001b[0;34m\u001b[0m\u001b[0;34m\u001b[0m\u001b[0m\n",
      "\u001b[0;32m<ipython-input-25-b142d00f04d9>\u001b[0m in \u001b[0;36mforward\u001b[0;34m(self, x)\u001b[0m\n\u001b[1;32m     47\u001b[0m \u001b[0;34m\u001b[0m\u001b[0m\n\u001b[1;32m     48\u001b[0m         \u001b[0;31m# 计算二阶特征交叉，返回交叉后的List\u001b[0m\u001b[0;34m\u001b[0m\u001b[0;34m\u001b[0m\u001b[0;34m\u001b[0m\u001b[0m\n\u001b[0;32m---> 49\u001b[0;31m         \u001b[0mcross_out_list\u001b[0m \u001b[0;34m=\u001b[0m \u001b[0mself\u001b[0m\u001b[0;34m.\u001b[0m\u001b[0mcrossFeats\u001b[0m\u001b[0;34m(\u001b[0m\u001b[0memb_out_list\u001b[0m\u001b[0;34m)\u001b[0m\u001b[0;34m\u001b[0m\u001b[0;34m\u001b[0m\u001b[0m\n\u001b[0m\u001b[1;32m     50\u001b[0m         \u001b[0;31m# 将所有交叉过的2阶特征和原始1阶特征concat\u001b[0m\u001b[0;34m\u001b[0m\u001b[0;34m\u001b[0m\u001b[0;34m\u001b[0m\u001b[0m\n\u001b[1;32m     51\u001b[0m         \u001b[0;31m#shallow_out = paddle.concat(emb_out_list + cross_out_list, axis=1)\u001b[0m\u001b[0;34m\u001b[0m\u001b[0;34m\u001b[0m\u001b[0;34m\u001b[0m\u001b[0m\n",
      "\u001b[0;32m<ipython-input-25-b142d00f04d9>\u001b[0m in \u001b[0;36mcrossFeats\u001b[0;34m(self, emb_out_list)\u001b[0m\n\u001b[1;32m     30\u001b[0m         \u001b[0;32mfor\u001b[0m \u001b[0mi\u001b[0m \u001b[0;32min\u001b[0m \u001b[0mrange\u001b[0m\u001b[0;34m(\u001b[0m\u001b[0mlen\u001b[0m\u001b[0;34m(\u001b[0m\u001b[0memb_out_list\u001b[0m\u001b[0;34m)\u001b[0m\u001b[0;34m)\u001b[0m\u001b[0;34m:\u001b[0m\u001b[0;34m\u001b[0m\u001b[0;34m\u001b[0m\u001b[0m\n\u001b[1;32m     31\u001b[0m             \u001b[0;32mfor\u001b[0m \u001b[0mj\u001b[0m \u001b[0;32min\u001b[0m \u001b[0mrange\u001b[0m\u001b[0;34m(\u001b[0m\u001b[0mi\u001b[0m\u001b[0;34m+\u001b[0m\u001b[0;36m1\u001b[0m\u001b[0;34m,\u001b[0m \u001b[0mlen\u001b[0m\u001b[0;34m(\u001b[0m\u001b[0memb_out_list\u001b[0m\u001b[0;34m)\u001b[0m\u001b[0;34m)\u001b[0m\u001b[0;34m:\u001b[0m\u001b[0;34m\u001b[0m\u001b[0;34m\u001b[0m\u001b[0m\n\u001b[0;32m---> 32\u001b[0;31m                 \u001b[0mcross_out_list\u001b[0m\u001b[0;34m.\u001b[0m\u001b[0mappend\u001b[0m\u001b[0;34m(\u001b[0m\u001b[0mself\u001b[0m\u001b[0;34m.\u001b[0m\u001b[0mcross_w_list\u001b[0m\u001b[0;34m[\u001b[0m\u001b[0mi\u001b[0m\u001b[0;34m]\u001b[0m\u001b[0;34m.\u001b[0m\u001b[0mdot\u001b[0m\u001b[0;34m(\u001b[0m\u001b[0mself\u001b[0m\u001b[0;34m.\u001b[0m\u001b[0mcross_w_list\u001b[0m\u001b[0;34m[\u001b[0m\u001b[0mj\u001b[0m\u001b[0;34m]\u001b[0m\u001b[0;34m)\u001b[0m \u001b[0;34m*\u001b[0m \u001b[0memb_out_list\u001b[0m\u001b[0;34m[\u001b[0m\u001b[0mi\u001b[0m\u001b[0;34m]\u001b[0m \u001b[0;34m*\u001b[0m \u001b[0memb_out_list\u001b[0m\u001b[0;34m[\u001b[0m\u001b[0mj\u001b[0m\u001b[0;34m]\u001b[0m\u001b[0;34m)\u001b[0m\u001b[0;34m\u001b[0m\u001b[0;34m\u001b[0m\u001b[0m\n\u001b[0m\u001b[1;32m     33\u001b[0m         \u001b[0;32mreturn\u001b[0m \u001b[0mcross_out_list\u001b[0m\u001b[0;34m\u001b[0m\u001b[0;34m\u001b[0m\u001b[0m\n\u001b[1;32m     34\u001b[0m \u001b[0;34m\u001b[0m\u001b[0m\n",
      "\u001b[0;32m/opt/conda/envs/python35-paddle120-env/lib/python3.7/site-packages/paddle/fluid/dygraph/math_op_patch.py\u001b[0m in \u001b[0;36m__impl__\u001b[0;34m(self, other_var)\u001b[0m\n\u001b[1;32m    248\u001b[0m             \u001b[0maxis\u001b[0m \u001b[0;34m=\u001b[0m \u001b[0;34m-\u001b[0m\u001b[0;36m1\u001b[0m\u001b[0;34m\u001b[0m\u001b[0;34m\u001b[0m\u001b[0m\n\u001b[1;32m    249\u001b[0m             \u001b[0mmath_op\u001b[0m \u001b[0;34m=\u001b[0m \u001b[0mgetattr\u001b[0m\u001b[0;34m(\u001b[0m\u001b[0mcore\u001b[0m\u001b[0;34m.\u001b[0m\u001b[0mops\u001b[0m\u001b[0;34m,\u001b[0m \u001b[0mop_type\u001b[0m\u001b[0;34m)\u001b[0m\u001b[0;34m\u001b[0m\u001b[0;34m\u001b[0m\u001b[0m\n\u001b[0;32m--> 250\u001b[0;31m             \u001b[0;32mreturn\u001b[0m \u001b[0mmath_op\u001b[0m\u001b[0;34m(\u001b[0m\u001b[0mself\u001b[0m\u001b[0;34m,\u001b[0m \u001b[0mother_var\u001b[0m\u001b[0;34m,\u001b[0m \u001b[0;34m'axis'\u001b[0m\u001b[0;34m,\u001b[0m \u001b[0maxis\u001b[0m\u001b[0;34m)\u001b[0m\u001b[0;34m\u001b[0m\u001b[0;34m\u001b[0m\u001b[0m\n\u001b[0m\u001b[1;32m    251\u001b[0m \u001b[0;34m\u001b[0m\u001b[0m\n\u001b[1;32m    252\u001b[0m         \u001b[0mcomment\u001b[0m \u001b[0;34m=\u001b[0m \u001b[0mOpProtoHolder\u001b[0m\u001b[0;34m.\u001b[0m\u001b[0minstance\u001b[0m\u001b[0;34m(\u001b[0m\u001b[0;34m)\u001b[0m\u001b[0;34m.\u001b[0m\u001b[0mget_op_proto\u001b[0m\u001b[0;34m(\u001b[0m\u001b[0mop_type\u001b[0m\u001b[0;34m)\u001b[0m\u001b[0;34m.\u001b[0m\u001b[0mcomment\u001b[0m\u001b[0;34m\u001b[0m\u001b[0;34m\u001b[0m\u001b[0m\n",
      "\u001b[0;31mKeyboardInterrupt\u001b[0m: "
     ]
    }
   ],
   "source": [
    "# model_param = paddle.load(\"./work/dfm_acc_epoch2_8834.pdparams\")\r\n",
    "# model_dfm.set_state_dict(model_param)\r\n",
    "optimizer = optim.Adam(parameters=model_dfm.parameters(), learning_rate=0.001, weight_decay=0.01)\r\n",
    "loss_list, acc_list = trainModel(model_dfm, loss_fn, optimizer, device, train_loader, start_epoch=3, epoches=20, model_name=\"dfm\", start_save_acc=0.884)"
   ]
  },
  {
   "cell_type": "code",
   "execution_count": 48,
   "metadata": {
    "collapsed": false
   },
   "outputs": [
    {
     "name": "stdout",
     "output_type": "stream",
     "text": [
      "gpu:0\n",
      "epoch:21, idx:0, batch_sum_loss:76.312255859375\n"
     ]
    },
    {
     "name": "stderr",
     "output_type": "stream",
     "text": [
      "/opt/conda/envs/python35-paddle120-env/lib/python3.7/site-packages/ipykernel_launcher.py:11: DeprecationWarning: `np.int` is a deprecated alias for the builtin `int`. To silence this warning, use `int` by itself. Doing this will not modify any behavior and is safe. When replacing `np.int`, you may wish to use e.g. `np.int64` or `np.int32` to specify the precision. If you wish to review your current use, check the release note link for additional information.\n",
      "Deprecated in NumPy 1.20; for more details and guidance: https://numpy.org/devdocs/release/1.20.0-notes.html#deprecations\n",
      "  # This is added back by InteractiveShellApp.init_path()\n",
      "/opt/conda/envs/python35-paddle120-env/lib/python3.7/site-packages/paddle/fluid/dataloader/dataloader_iter.py:89: DeprecationWarning: `np.bool` is a deprecated alias for the builtin `bool`. To silence this warning, use `bool` by itself. Doing this will not modify any behavior and is safe. If you specifically wanted the numpy scalar type, use `np.bool_` here.\n",
      "Deprecated in NumPy 1.20; for more details and guidance: https://numpy.org/devdocs/release/1.20.0-notes.html#deprecations\n",
      "  if isinstance(slot[0], (np.ndarray, np.bool, numbers.Number)):\n"
     ]
    },
    {
     "name": "stdout",
     "output_type": "stream",
     "text": [
      "epoch:21, idx:500, batch_sum_loss:70.6458969116211\n",
      "epoch:21, idx:1000, batch_sum_loss:83.3962173461914\n",
      "epoch:21, idx:1500, batch_sum_loss:77.32967376708984\n",
      "epoch:21, ave_loss:0.276159700196896\n"
     ]
    },
    {
     "name": "stderr",
     "output_type": "stream",
     "text": [
      "/opt/conda/envs/python35-paddle120-env/lib/python3.7/site-packages/ipykernel_launcher.py:16: DeprecationWarning: `np.int` is a deprecated alias for the builtin `int`. To silence this warning, use `int` by itself. Doing this will not modify any behavior and is safe. When replacing `np.int`, you may wish to use e.g. `np.int64` or `np.int32` to specify the precision. If you wish to review your current use, check the release note link for additional information.\n",
      "Deprecated in NumPy 1.20; for more details and guidance: https://numpy.org/devdocs/release/1.20.0-notes.html#deprecations\n",
      "  app.launch_new_instance()\n"
     ]
    },
    {
     "name": "stdout",
     "output_type": "stream",
     "text": [
      "train:loss_ave:0.27005983539356515, acc:0.8973719773541453\n",
      "-------------------------------------------------------------------\n",
      "epoch:22, idx:0, batch_sum_loss:79.58964538574219\n",
      "epoch:22, idx:500, batch_sum_loss:59.79456329345703\n",
      "epoch:22, idx:1000, batch_sum_loss:74.67666625976562\n",
      "epoch:22, idx:1500, batch_sum_loss:66.36986541748047\n",
      "epoch:22, ave_loss:0.2736798601793154\n",
      "train:loss_ave:0.2682259527641323, acc:0.8982056038894575\n",
      "-------------------------------------------------------------------\n",
      "epoch:23, idx:0, batch_sum_loss:77.4429931640625\n",
      "epoch:23, idx:500, batch_sum_loss:69.73820495605469\n",
      "epoch:23, idx:1000, batch_sum_loss:69.97480010986328\n",
      "epoch:23, idx:1500, batch_sum_loss:75.87858581542969\n",
      "epoch:23, ave_loss:0.27168930376457584\n",
      "train:loss_ave:0.26387052942818545, acc:0.9008864028915046\n",
      "-------------------------------------------------------------------\n",
      "epoch:24, idx:0, batch_sum_loss:84.5690689086914\n",
      "epoch:24, idx:500, batch_sum_loss:37.56404113769531\n",
      "epoch:24, idx:1000, batch_sum_loss:75.11445617675781\n",
      "epoch:24, idx:1500, batch_sum_loss:68.24108123779297\n",
      "epoch:24, ave_loss:0.25303255163415306\n",
      "train:loss_ave:0.19119039730968654, acc:0.9375159928352098\n",
      "-------------------------------------------------------------------\n",
      "Early Stopping!\n"
     ]
    }
   ],
   "source": [
    "model_ensem = EnsembleModel(emb_dim_dict=emb_dim_dict)\r\n",
    "# model_param = paddle.load(\"./work/ens_pds_loss_epoch17.pdparams\")\r\n",
    "model_ensem.set_state_dict(model_param)\r\n",
    "optimizer = optim.Adam(parameters=model_ensem.parameters(), learning_rate=0.001, weight_decay=0.01)\r\n",
    "loss_list, acc_list = trainModel(model_ensem, loss_fn, optimizer, device, train_loader, start_epoch=1, epoches=20, model_name=\"ens_pds\", start_save_acc=0, use_all_data=Fa)"
   ]
  },
  {
   "cell_type": "code",
   "execution_count": null,
   "metadata": {
    "collapsed": false
   },
   "outputs": [
    {
     "data": {
      "text/plain": [
       "654"
      ]
     },
     "execution_count": null,
     "metadata": {},
     "output_type": "execute_result"
    }
   ],
   "source": [
    "EMB_OUT_SIZE"
   ]
  },
  {
   "cell_type": "code",
   "execution_count": 74,
   "metadata": {
    "collapsed": false
   },
   "outputs": [
    {
     "name": "stdout",
     "output_type": "stream",
     "text": [
      "gpu:0\n",
      "epoch:16, idx:0, batch_sum_loss:61.516822814941406\n"
     ]
    },
    {
     "name": "stderr",
     "output_type": "stream",
     "text": [
      "/opt/conda/envs/python35-paddle120-env/lib/python3.7/site-packages/ipykernel_launcher.py:11: DeprecationWarning: `np.int` is a deprecated alias for the builtin `int`. To silence this warning, use `int` by itself. Doing this will not modify any behavior and is safe. When replacing `np.int`, you may wish to use e.g. `np.int64` or `np.int32` to specify the precision. If you wish to review your current use, check the release note link for additional information.\n",
      "Deprecated in NumPy 1.20; for more details and guidance: https://numpy.org/devdocs/release/1.20.0-notes.html#deprecations\n",
      "  # This is added back by InteractiveShellApp.init_path()\n",
      "/opt/conda/envs/python35-paddle120-env/lib/python3.7/site-packages/paddle/fluid/dataloader/dataloader_iter.py:89: DeprecationWarning: `np.bool` is a deprecated alias for the builtin `bool`. To silence this warning, use `bool` by itself. Doing this will not modify any behavior and is safe. If you specifically wanted the numpy scalar type, use `np.bool_` here.\n",
      "Deprecated in NumPy 1.20; for more details and guidance: https://numpy.org/devdocs/release/1.20.0-notes.html#deprecations\n",
      "  if isinstance(slot[0], (np.ndarray, np.bool, numbers.Number)):\n"
     ]
    },
    {
     "name": "stdout",
     "output_type": "stream",
     "text": [
      "epoch:16, idx:500, batch_sum_loss:51.78311538696289\n",
      "epoch:16, idx:1000, batch_sum_loss:58.714622497558594\n",
      "epoch:16, idx:1500, batch_sum_loss:73.0323486328125\n",
      "epoch:16, ave_loss:0.2697332961838671\n"
     ]
    },
    {
     "name": "stderr",
     "output_type": "stream",
     "text": [
      "/opt/conda/envs/python35-paddle120-env/lib/python3.7/site-packages/ipykernel_launcher.py:16: DeprecationWarning: `np.int` is a deprecated alias for the builtin `int`. To silence this warning, use `int` by itself. Doing this will not modify any behavior and is safe. When replacing `np.int`, you may wish to use e.g. `np.int64` or `np.int32` to specify the precision. If you wish to review your current use, check the release note link for additional information.\n",
      "Deprecated in NumPy 1.20; for more details and guidance: https://numpy.org/devdocs/release/1.20.0-notes.html#deprecations\n",
      "  app.launch_new_instance()\n"
     ]
    },
    {
     "name": "stdout",
     "output_type": "stream",
     "text": [
      "train:loss_ave:0.26406918475414976, acc:0.8992996302616609\n",
      "valid:loss_ave:0.2944936845831725, acc:0.8865393813775511\n",
      "-------------------------------------------------------------------\n",
      "Early Stopping!\n"
     ]
    }
   ],
   "source": [
    "# model_pmb = ParaMaskNet(emb_dict=emb_dim_dict, \r\n",
    "#                         igm_reduce_r_list=[1, 2, 3], \r\n",
    "#                         mb_hid_list=[256, 512, 768], \r\n",
    "#                         mlp_size_list=[512])\r\n",
    "model_param = paddle.load(\"./work/pmb_acc_epoch15_8869.pdparams\")\r\n",
    "model_pmb.set_state_dict(model_param)\r\n",
    "optimizer = optim.Adam(parameters=model_pmb.parameters(), learning_rate=0.0001, weight_decay=0.01)\r\n",
    "loss_list, acc_list = trainModel(model_pmb, loss_fn, optimizer, device, train_loader, start_epoch=16, epoches=10, model_name=\"pmb\", start_save_acc=0.887, use_all_data=False)\r\n",
    "# loss_list, acc_list = trainModel(model_pmb, loss_fn, optimizer, device, valid_loader, start_epoch=1, epoches=2, model_name=\"pmb\", start_save_acc=0.88)"
   ]
  },
  {
   "cell_type": "code",
   "execution_count": null,
   "metadata": {
    "collapsed": false
   },
   "outputs": [],
   "source": [
    "paddle.save(model_pmb.state_dict(), \"./work/pmb_879\" + \".pdparams\")"
   ]
  },
  {
   "cell_type": "code",
   "execution_count": 55,
   "metadata": {
    "collapsed": false
   },
   "outputs": [
    {
     "name": "stdout",
     "output_type": "stream",
     "text": [
      "gpu:0\n",
      "epoch:11, idx:0, batch_sum_loss:68.77133178710938\n"
     ]
    },
    {
     "name": "stderr",
     "output_type": "stream",
     "text": [
      "/opt/conda/envs/python35-paddle120-env/lib/python3.7/site-packages/ipykernel_launcher.py:11: DeprecationWarning: `np.int` is a deprecated alias for the builtin `int`. To silence this warning, use `int` by itself. Doing this will not modify any behavior and is safe. When replacing `np.int`, you may wish to use e.g. `np.int64` or `np.int32` to specify the precision. If you wish to review your current use, check the release note link for additional information.\n",
      "Deprecated in NumPy 1.20; for more details and guidance: https://numpy.org/devdocs/release/1.20.0-notes.html#deprecations\n",
      "  # This is added back by InteractiveShellApp.init_path()\n",
      "/opt/conda/envs/python35-paddle120-env/lib/python3.7/site-packages/paddle/fluid/dataloader/dataloader_iter.py:89: DeprecationWarning: `np.bool` is a deprecated alias for the builtin `bool`. To silence this warning, use `bool` by itself. Doing this will not modify any behavior and is safe. If you specifically wanted the numpy scalar type, use `np.bool_` here.\n",
      "Deprecated in NumPy 1.20; for more details and guidance: https://numpy.org/devdocs/release/1.20.0-notes.html#deprecations\n",
      "  if isinstance(slot[0], (np.ndarray, np.bool, numbers.Number)):\n"
     ]
    },
    {
     "name": "stdout",
     "output_type": "stream",
     "text": [
      "epoch:11, idx:500, batch_sum_loss:74.66376495361328\n",
      "epoch:11, idx:1000, batch_sum_loss:68.3926010131836\n",
      "epoch:11, idx:1500, batch_sum_loss:67.22955322265625\n",
      "epoch:11, ave_loss:0.2755413932092831\n"
     ]
    },
    {
     "name": "stderr",
     "output_type": "stream",
     "text": [
      "/opt/conda/envs/python35-paddle120-env/lib/python3.7/site-packages/ipykernel_launcher.py:16: DeprecationWarning: `np.int` is a deprecated alias for the builtin `int`. To silence this warning, use `int` by itself. Doing this will not modify any behavior and is safe. When replacing `np.int`, you may wish to use e.g. `np.int64` or `np.int32` to specify the precision. If you wish to review your current use, check the release note link for additional information.\n",
      "Deprecated in NumPy 1.20; for more details and guidance: https://numpy.org/devdocs/release/1.20.0-notes.html#deprecations\n",
      "  app.launch_new_instance()\n"
     ]
    },
    {
     "name": "stdout",
     "output_type": "stream",
     "text": [
      "train:loss_ave:0.2665813494084771, acc:0.8992211489252815\n",
      "-------------------------------------------------------------------\n",
      "epoch:12, idx:0, batch_sum_loss:74.54212188720703\n",
      "epoch:12, idx:500, batch_sum_loss:62.368614196777344\n",
      "epoch:12, idx:1000, batch_sum_loss:57.9099235534668\n",
      "epoch:12, idx:1500, batch_sum_loss:76.84490966796875\n",
      "epoch:12, ave_loss:0.24715328806803438\n",
      "train:loss_ave:0.1671947797554466, acc:0.9479473196008188\n",
      "-------------------------------------------------------------------\n",
      "Early Stopping!\n"
     ]
    }
   ],
   "source": [
    "# model_smb = ParaMaskNet(emb_dict=emb_dim_dict, \r\n",
    "#                         igm_reduce_r_list=[1, 2, 3], \r\n",
    "#                         mb_hid_list=[-1, -1, 512], \r\n",
    "#                         mlp_size_list=[128])\r\n",
    "model_param = paddle.load(\"./work/smb_loss_epoch10.pdparams\")\r\n",
    "model_smb.set_state_dict(model_param)\r\n",
    "optimizer = optim.Adam(parameters=model_smb.parameters(), learning_rate=0.0001, weight_decay=0.01)\r\n",
    "loss_list, acc_list = trainModel(model_smb, loss_fn, optimizer, device, train_loader, start_epoch=11, epoches=5, model_name=\"smb\", start_save_acc=0)\r\n",
    "# loss_list, acc_list = trainModel(model_pmb, loss_fn, optimizer, device, valid_loader, start_epoch=1, epoches=2, model_name=\"pmb\", start_save_acc=0.88)                       "
   ]
  },
  {
   "cell_type": "code",
   "execution_count": 88,
   "metadata": {
    "collapsed": false
   },
   "outputs": [
    {
     "name": "stdout",
     "output_type": "stream",
     "text": [
      "gpu:0\n",
      "epoch:1, idx:0, batch_sum_loss:179.44302368164062\n"
     ]
    },
    {
     "name": "stderr",
     "output_type": "stream",
     "text": [
      "/opt/conda/envs/python35-paddle120-env/lib/python3.7/site-packages/ipykernel_launcher.py:11: DeprecationWarning: `np.int` is a deprecated alias for the builtin `int`. To silence this warning, use `int` by itself. Doing this will not modify any behavior and is safe. When replacing `np.int`, you may wish to use e.g. `np.int64` or `np.int32` to specify the precision. If you wish to review your current use, check the release note link for additional information.\n",
      "Deprecated in NumPy 1.20; for more details and guidance: https://numpy.org/devdocs/release/1.20.0-notes.html#deprecations\n",
      "  # This is added back by InteractiveShellApp.init_path()\n",
      "/opt/conda/envs/python35-paddle120-env/lib/python3.7/site-packages/paddle/fluid/dataloader/dataloader_iter.py:89: DeprecationWarning: `np.bool` is a deprecated alias for the builtin `bool`. To silence this warning, use `bool` by itself. Doing this will not modify any behavior and is safe. If you specifically wanted the numpy scalar type, use `np.bool_` here.\n",
      "Deprecated in NumPy 1.20; for more details and guidance: https://numpy.org/devdocs/release/1.20.0-notes.html#deprecations\n",
      "  if isinstance(slot[0], (np.ndarray, np.bool, numbers.Number)):\n"
     ]
    },
    {
     "name": "stdout",
     "output_type": "stream",
     "text": [
      "epoch:1, idx:500, batch_sum_loss:83.90325927734375\n",
      "epoch:1, idx:1000, batch_sum_loss:74.12667846679688\n",
      "epoch:1, idx:1500, batch_sum_loss:90.74762725830078\n",
      "epoch:1, ave_loss:0.3068562645350707\n"
     ]
    },
    {
     "name": "stderr",
     "output_type": "stream",
     "text": [
      "/opt/conda/envs/python35-paddle120-env/lib/python3.7/site-packages/ipykernel_launcher.py:16: DeprecationWarning: `np.int` is a deprecated alias for the builtin `int`. To silence this warning, use `int` by itself. Doing this will not modify any behavior and is safe. When replacing `np.int`, you may wish to use e.g. `np.int64` or `np.int32` to specify the precision. If you wish to review your current use, check the release note link for additional information.\n",
      "Deprecated in NumPy 1.20; for more details and guidance: https://numpy.org/devdocs/release/1.20.0-notes.html#deprecations\n",
      "  app.launch_new_instance()\n"
     ]
    },
    {
     "name": "stdout",
     "output_type": "stream",
     "text": [
      "train:loss_ave:0.28122092282507605, acc:0.8957400099544938\n",
      "valid:loss_ave:0.2947523988479254, acc:0.8838687818877551\n",
      "-------------------------------------------------------------------\n",
      "epoch:2, idx:0, batch_sum_loss:58.34437942504883\n",
      "epoch:2, idx:500, batch_sum_loss:253.88067626953125\n",
      "epoch:2, idx:1000, batch_sum_loss:63.21255111694336\n",
      "epoch:2, idx:1500, batch_sum_loss:62.499237060546875\n",
      "epoch:2, ave_loss:0.27252886153596523\n",
      "train:loss_ave:0.11830356762457354, acc:0.9581622404721274\n",
      "valid:loss_ave:0.2920865372811653, acc:0.8861407844387755\n",
      "-------------------------------------------------------------------\n",
      "epoch:3, idx:0, batch_sum_loss:25.031949996948242\n",
      "epoch:3, idx:500, batch_sum_loss:3.4534337520599365\n",
      "epoch:3, idx:1000, batch_sum_loss:19.38315200805664\n",
      "epoch:3, idx:1500, batch_sum_loss:9.734344482421875\n",
      "epoch:3, ave_loss:0.04545383344894959\n",
      "train:loss_ave:0.011859934718946188, acc:0.9970736454778157\n",
      "valid:loss_ave:0.34348469273168214, acc:0.8719308035714286\n",
      "-------------------------------------------------------------------\n",
      "Early Stopping!\n"
     ]
    }
   ],
   "source": [
    "model_mpmb = ModifyParaMaskNet(emb_dict=emb_samedim_dict, \n",
    "                        igm_reduce_r_list=[1, 2, 3], \n",
    "                        mb_hid_list=[256, 512, 768], \n",
    "                        cin_hk_list=[128, 128, 64],\n",
    "                        mlp_size_list=[256],\n",
    "                        emb_out_size=EMB_SAMEOUT_SIZE)\n",
    "# model_param = paddle.load(\"./work/pmb_acc_epoch15_8869.pdparams\")\n",
    "# model_mpmb.set_state_dict(model_param)\n",
    "optimizer = optim.Adam(parameters=model_mpmb.parameters(), learning_rate=0.001, weight_decay=0.01)\n",
    "loss_list, acc_list = trainModel(model_mpmb, loss_fn, optimizer, device, train_loader, start_epoch=1, epoches=10, model_name=\"mpmb\", start_save_acc=0.886, use_all_data=False)"
   ]
  },
  {
   "cell_type": "code",
   "execution_count": null,
   "metadata": {
    "collapsed": false
   },
   "outputs": [],
   "source": [
    "model_param = paddle.load(\"./work/ens_pds_acc_epoch11_8850.pdparams\")\r\n",
    "model_ensem.set_state_dict(model_param)"
   ]
  },
  {
   "cell_type": "code",
   "execution_count": null,
   "metadata": {
    "collapsed": false
   },
   "outputs": [
    {
     "name": "stdout",
     "output_type": "stream",
     "text": [
      "gpu:0\n",
      "epoch:33, idx:0, batch_sum_loss:40.37668228149414\n"
     ]
    },
    {
     "name": "stderr",
     "output_type": "stream",
     "text": [
      "/opt/conda/envs/python35-paddle120-env/lib/python3.7/site-packages/ipykernel_launcher.py:11: DeprecationWarning: `np.int` is a deprecated alias for the builtin `int`. To silence this warning, use `int` by itself. Doing this will not modify any behavior and is safe. When replacing `np.int`, you may wish to use e.g. `np.int64` or `np.int32` to specify the precision. If you wish to review your current use, check the release note link for additional information.\n",
      "Deprecated in NumPy 1.20; for more details and guidance: https://numpy.org/devdocs/release/1.20.0-notes.html#deprecations\n",
      "  # This is added back by InteractiveShellApp.init_path()\n",
      "/opt/conda/envs/python35-paddle120-env/lib/python3.7/site-packages/paddle/fluid/dataloader/dataloader_iter.py:89: DeprecationWarning: `np.bool` is a deprecated alias for the builtin `bool`. To silence this warning, use `bool` by itself. Doing this will not modify any behavior and is safe. If you specifically wanted the numpy scalar type, use `np.bool_` here.\n",
      "Deprecated in NumPy 1.20; for more details and guidance: https://numpy.org/devdocs/release/1.20.0-notes.html#deprecations\n",
      "  if isinstance(slot[0], (np.ndarray, np.bool, numbers.Number)):\n"
     ]
    },
    {
     "name": "stdout",
     "output_type": "stream",
     "text": [
      "epoch:33, idx:500, batch_sum_loss:44.81654739379883\n",
      "epoch:33, idx:1000, batch_sum_loss:37.065853118896484\n",
      "epoch:33, idx:1500, batch_sum_loss:37.669883728027344\n",
      "epoch:33, idx:2000, batch_sum_loss:42.260440826416016\n",
      "epoch:33, idx:2500, batch_sum_loss:27.230144500732422\n",
      "epoch:33, idx:3000, batch_sum_loss:36.9178581237793\n",
      "epoch:33, idx:3500, batch_sum_loss:41.12592315673828\n",
      "epoch:33, ave_loss:0.2936027578297532\n"
     ]
    },
    {
     "name": "stderr",
     "output_type": "stream",
     "text": [
      "/opt/conda/envs/python35-paddle120-env/lib/python3.7/site-packages/ipykernel_launcher.py:16: DeprecationWarning: `np.int` is a deprecated alias for the builtin `int`. To silence this warning, use `int` by itself. Doing this will not modify any behavior and is safe. When replacing `np.int`, you may wish to use e.g. `np.int64` or `np.int32` to specify the precision. If you wish to review your current use, check the release note link for additional information.\n",
      "Deprecated in NumPy 1.20; for more details and guidance: https://numpy.org/devdocs/release/1.20.0-notes.html#deprecations\n",
      "  app.launch_new_instance()\n"
     ]
    },
    {
     "name": "stdout",
     "output_type": "stream",
     "text": [
      "valid_loss_ave:0.2951925071837652, acc:0.8871283567774936\n",
      "-------------------------------------------------------------------\n",
      "epoch:34, idx:0, batch_sum_loss:29.279850006103516\n",
      "epoch:34, idx:500, batch_sum_loss:37.04157257080078\n",
      "epoch:34, idx:1000, batch_sum_loss:54.20576095581055\n",
      "epoch:34, idx:1500, batch_sum_loss:49.444889068603516\n",
      "epoch:34, idx:2000, batch_sum_loss:36.44204330444336\n",
      "epoch:34, idx:2500, batch_sum_loss:40.47740936279297\n",
      "epoch:34, idx:3000, batch_sum_loss:32.983436584472656\n",
      "epoch:34, idx:3500, batch_sum_loss:24.201622009277344\n",
      "epoch:34, ave_loss:0.2930525503289781\n",
      "valid_loss_ave:0.29500971646869883, acc:0.8869085677749361\n",
      "-------------------------------------------------------------------\n",
      "epoch:35, idx:0, batch_sum_loss:49.15219497680664\n",
      "epoch:35, idx:500, batch_sum_loss:38.6931266784668\n",
      "epoch:35, idx:1000, batch_sum_loss:29.52236557006836\n",
      "epoch:35, idx:1500, batch_sum_loss:37.406097412109375\n",
      "epoch:35, idx:2000, batch_sum_loss:38.271324157714844\n",
      "epoch:35, idx:2500, batch_sum_loss:33.226253509521484\n",
      "epoch:35, idx:3000, batch_sum_loss:29.009052276611328\n",
      "epoch:35, idx:3500, batch_sum_loss:43.20220947265625\n",
      "epoch:35, ave_loss:0.2927812091811254\n",
      "valid_loss_ave:0.2950535266448165, acc:0.8871283567774936\n",
      "-------------------------------------------------------------------\n",
      "epoch:36, idx:0, batch_sum_loss:31.235889434814453\n",
      "epoch:36, idx:500, batch_sum_loss:39.482852935791016\n",
      "epoch:36, idx:1000, batch_sum_loss:34.73899841308594\n",
      "epoch:36, idx:1500, batch_sum_loss:43.83572769165039\n",
      "epoch:36, idx:2000, batch_sum_loss:37.899593353271484\n",
      "epoch:36, idx:2500, batch_sum_loss:47.61854553222656\n",
      "epoch:36, idx:3000, batch_sum_loss:53.184173583984375\n",
      "epoch:36, idx:3500, batch_sum_loss:31.44452476501465\n",
      "epoch:36, ave_loss:0.2922395810196695\n",
      "valid_loss_ave:0.2949185876742653, acc:0.887028452685422\n",
      "-------------------------------------------------------------------\n",
      "epoch:37, idx:0, batch_sum_loss:46.449981689453125\n",
      "epoch:37, idx:500, batch_sum_loss:33.278648376464844\n",
      "epoch:37, idx:1000, batch_sum_loss:30.948715209960938\n",
      "epoch:37, idx:1500, batch_sum_loss:42.437904357910156\n",
      "epoch:37, idx:2000, batch_sum_loss:38.27960968017578\n",
      "epoch:37, idx:2500, batch_sum_loss:46.123146057128906\n",
      "epoch:37, idx:3000, batch_sum_loss:26.25926971435547\n",
      "epoch:37, idx:3500, batch_sum_loss:33.62371826171875\n",
      "epoch:37, ave_loss:0.29189080635214965\n",
      "valid_loss_ave:0.2950488719565179, acc:0.8872882033248082\n",
      "-------------------------------------------------------------------\n",
      "epoch:38, idx:0, batch_sum_loss:39.431663513183594\n",
      "epoch:38, idx:500, batch_sum_loss:38.05466842651367\n",
      "epoch:38, idx:1000, batch_sum_loss:33.46601486206055\n",
      "epoch:38, idx:1500, batch_sum_loss:31.85282325744629\n",
      "epoch:38, idx:2000, batch_sum_loss:36.3635139465332\n",
      "epoch:38, idx:2500, batch_sum_loss:37.97563934326172\n",
      "epoch:38, idx:3000, batch_sum_loss:35.786861419677734\n",
      "epoch:38, idx:3500, batch_sum_loss:35.594451904296875\n",
      "epoch:38, ave_loss:0.29098215539419475\n",
      "valid_loss_ave:0.2949965724249935, acc:0.8870684143222506\n",
      "-------------------------------------------------------------------\n",
      "epoch:39, idx:0, batch_sum_loss:31.846111297607422\n",
      "epoch:39, idx:500, batch_sum_loss:30.909040451049805\n",
      "epoch:39, idx:1000, batch_sum_loss:27.55674171447754\n",
      "epoch:39, idx:1500, batch_sum_loss:27.85861587524414\n",
      "epoch:39, idx:2000, batch_sum_loss:36.807220458984375\n",
      "epoch:39, idx:2500, batch_sum_loss:35.17938232421875\n",
      "epoch:39, idx:3000, batch_sum_loss:44.797786712646484\n",
      "epoch:39, idx:3500, batch_sum_loss:39.03993225097656\n",
      "epoch:39, ave_loss:0.28934053091737055\n",
      "valid_loss_ave:0.29545996477231956, acc:0.8869085677749361\n",
      "-------------------------------------------------------------------\n",
      "epoch:40, idx:0, batch_sum_loss:31.173912048339844\n",
      "epoch:40, idx:500, batch_sum_loss:27.184619903564453\n",
      "epoch:40, idx:1000, batch_sum_loss:29.021032333374023\n",
      "epoch:40, idx:1500, batch_sum_loss:43.98846435546875\n",
      "epoch:40, idx:2000, batch_sum_loss:43.14198303222656\n",
      "epoch:40, idx:2500, batch_sum_loss:46.62287902832031\n",
      "epoch:40, idx:3000, batch_sum_loss:34.709800720214844\n",
      "epoch:40, idx:3500, batch_sum_loss:30.975175857543945\n",
      "epoch:40, ave_loss:0.2853881121232716\n",
      "valid_loss_ave:0.29756805365500244, acc:0.8861293158567775\n",
      "-------------------------------------------------------------------\n",
      "epoch:41, idx:0, batch_sum_loss:37.772708892822266\n",
      "epoch:41, idx:500, batch_sum_loss:39.79104995727539\n",
      "epoch:41, idx:1000, batch_sum_loss:30.27808952331543\n",
      "epoch:41, idx:1500, batch_sum_loss:23.307361602783203\n",
      "epoch:41, idx:2000, batch_sum_loss:32.910343170166016\n",
      "epoch:41, idx:2500, batch_sum_loss:34.94141387939453\n",
      "epoch:41, idx:3000, batch_sum_loss:35.26411056518555\n",
      "epoch:41, idx:3500, batch_sum_loss:38.19464874267578\n",
      "epoch:41, ave_loss:0.27947127296927304\n",
      "valid_loss_ave:0.3015995170835339, acc:0.8838115409207161\n",
      "-------------------------------------------------------------------\n",
      "epoch:42, idx:0, batch_sum_loss:38.34397888183594\n",
      "epoch:42, idx:500, batch_sum_loss:36.645408630371094\n",
      "epoch:42, idx:1000, batch_sum_loss:20.427410125732422\n",
      "epoch:42, idx:1500, batch_sum_loss:35.6138916015625\n",
      "epoch:42, idx:2000, batch_sum_loss:39.67095947265625\n",
      "epoch:42, idx:2500, batch_sum_loss:36.14746856689453\n",
      "epoch:42, idx:3000, batch_sum_loss:32.90156555175781\n",
      "epoch:42, idx:3500, batch_sum_loss:32.292423248291016\n",
      "epoch:42, ave_loss:0.27231340685836014\n",
      "valid_loss_ave:0.30668156413013675, acc:0.8817734974424553\n",
      "-------------------------------------------------------------------\n",
      "epoch:43, idx:0, batch_sum_loss:27.14862823486328\n",
      "epoch:43, idx:500, batch_sum_loss:28.400291442871094\n",
      "epoch:43, idx:1000, batch_sum_loss:43.131019592285156\n",
      "epoch:43, idx:1500, batch_sum_loss:17.53126335144043\n",
      "epoch:43, idx:2000, batch_sum_loss:40.34149932861328\n",
      "epoch:43, idx:2500, batch_sum_loss:33.355506896972656\n",
      "epoch:43, idx:3000, batch_sum_loss:27.03386878967285\n"
     ]
    },
    {
     "ename": "KeyboardInterrupt",
     "evalue": "",
     "output_type": "error",
     "traceback": [
      "\u001b[0;31m---------------------------------------------------------------------------\u001b[0m",
      "\u001b[0;31mKeyboardInterrupt\u001b[0m                         Traceback (most recent call last)",
      "\u001b[0;32m<ipython-input-36-4b35486926ab>\u001b[0m in \u001b[0;36m<module>\u001b[0;34m\u001b[0m\n\u001b[1;32m      2\u001b[0m \u001b[0mmodel_ensem\u001b[0m\u001b[0;34m.\u001b[0m\u001b[0mset_state_dict\u001b[0m\u001b[0;34m(\u001b[0m\u001b[0mmodel_param\u001b[0m\u001b[0;34m)\u001b[0m\u001b[0;34m\u001b[0m\u001b[0;34m\u001b[0m\u001b[0m\n\u001b[1;32m      3\u001b[0m \u001b[0moptimizer\u001b[0m \u001b[0;34m=\u001b[0m \u001b[0moptim\u001b[0m\u001b[0;34m.\u001b[0m\u001b[0mAdam\u001b[0m\u001b[0;34m(\u001b[0m\u001b[0mparameters\u001b[0m\u001b[0;34m=\u001b[0m\u001b[0mmodel_ensem\u001b[0m\u001b[0;34m.\u001b[0m\u001b[0mparameters\u001b[0m\u001b[0;34m(\u001b[0m\u001b[0;34m)\u001b[0m\u001b[0;34m,\u001b[0m \u001b[0mlearning_rate\u001b[0m\u001b[0;34m=\u001b[0m\u001b[0;36m0.00001\u001b[0m\u001b[0;34m,\u001b[0m \u001b[0mweight_decay\u001b[0m\u001b[0;34m=\u001b[0m\u001b[0;36m0.01\u001b[0m\u001b[0;34m)\u001b[0m\u001b[0;34m\u001b[0m\u001b[0;34m\u001b[0m\u001b[0m\n\u001b[0;32m----> 4\u001b[0;31m \u001b[0mloss_list\u001b[0m\u001b[0;34m,\u001b[0m \u001b[0macc_list\u001b[0m \u001b[0;34m=\u001b[0m \u001b[0mtrainModel\u001b[0m\u001b[0;34m(\u001b[0m\u001b[0mmodel_ensem\u001b[0m\u001b[0;34m,\u001b[0m \u001b[0mloss_fn\u001b[0m\u001b[0;34m,\u001b[0m \u001b[0moptimizer\u001b[0m\u001b[0;34m,\u001b[0m \u001b[0mdevice\u001b[0m\u001b[0;34m,\u001b[0m \u001b[0mtrain_loader\u001b[0m\u001b[0;34m,\u001b[0m \u001b[0mstart_epoch\u001b[0m\u001b[0;34m=\u001b[0m\u001b[0;36m33\u001b[0m\u001b[0;34m,\u001b[0m \u001b[0mepoches\u001b[0m\u001b[0;34m=\u001b[0m\u001b[0;36m20\u001b[0m\u001b[0;34m,\u001b[0m \u001b[0mmodel_name\u001b[0m\u001b[0;34m=\u001b[0m\u001b[0;34m\"ens_ps\"\u001b[0m\u001b[0;34m,\u001b[0m \u001b[0mstart_save_acc\u001b[0m\u001b[0;34m=\u001b[0m\u001b[0;36m0.8872\u001b[0m\u001b[0;34m)\u001b[0m\u001b[0;34m\u001b[0m\u001b[0;34m\u001b[0m\u001b[0m\n\u001b[0m",
      "\u001b[0;32m<ipython-input-31-b346cd0a0da0>\u001b[0m in \u001b[0;36mtrainModel\u001b[0;34m(model, loss_fn, optimizer, device, data_loader, start_epoch, epoches, model_name, start_save_acc)\u001b[0m\n\u001b[1;32m     22\u001b[0m                 \u001b[0mprint\u001b[0m\u001b[0;34m(\u001b[0m\u001b[0;34mf\"epoch:{epoch}, idx:{idx}, batch_sum_loss:{loss.numpy()[0]}\"\u001b[0m\u001b[0;34m)\u001b[0m\u001b[0;34m\u001b[0m\u001b[0;34m\u001b[0m\u001b[0m\n\u001b[1;32m     23\u001b[0m \u001b[0;34m\u001b[0m\u001b[0m\n\u001b[0;32m---> 24\u001b[0;31m             \u001b[0mloss\u001b[0m\u001b[0;34m.\u001b[0m\u001b[0mbackward\u001b[0m\u001b[0;34m(\u001b[0m\u001b[0;34m)\u001b[0m\u001b[0;34m\u001b[0m\u001b[0;34m\u001b[0m\u001b[0m\n\u001b[0m\u001b[1;32m     25\u001b[0m             \u001b[0moptimizer\u001b[0m\u001b[0;34m.\u001b[0m\u001b[0mstep\u001b[0m\u001b[0;34m(\u001b[0m\u001b[0;34m)\u001b[0m\u001b[0;34m\u001b[0m\u001b[0;34m\u001b[0m\u001b[0m\n\u001b[1;32m     26\u001b[0m             \u001b[0moptimizer\u001b[0m\u001b[0;34m.\u001b[0m\u001b[0mclear_grad\u001b[0m\u001b[0;34m(\u001b[0m\u001b[0;34m)\u001b[0m\u001b[0;34m\u001b[0m\u001b[0;34m\u001b[0m\u001b[0m\n",
      "\u001b[0;32m</opt/conda/envs/python35-paddle120-env/lib/python3.7/site-packages/decorator.py:decorator-gen-238>\u001b[0m in \u001b[0;36mbackward\u001b[0;34m(self, retain_graph)\u001b[0m\n",
      "\u001b[0;32m/opt/conda/envs/python35-paddle120-env/lib/python3.7/site-packages/paddle/fluid/wrapped_decorator.py\u001b[0m in \u001b[0;36m__impl__\u001b[0;34m(func, *args, **kwargs)\u001b[0m\n\u001b[1;32m     23\u001b[0m     \u001b[0;32mdef\u001b[0m \u001b[0m__impl__\u001b[0m\u001b[0;34m(\u001b[0m\u001b[0mfunc\u001b[0m\u001b[0;34m,\u001b[0m \u001b[0;34m*\u001b[0m\u001b[0margs\u001b[0m\u001b[0;34m,\u001b[0m \u001b[0;34m**\u001b[0m\u001b[0mkwargs\u001b[0m\u001b[0;34m)\u001b[0m\u001b[0;34m:\u001b[0m\u001b[0;34m\u001b[0m\u001b[0;34m\u001b[0m\u001b[0m\n\u001b[1;32m     24\u001b[0m         \u001b[0mwrapped_func\u001b[0m \u001b[0;34m=\u001b[0m \u001b[0mdecorator_func\u001b[0m\u001b[0;34m(\u001b[0m\u001b[0mfunc\u001b[0m\u001b[0;34m)\u001b[0m\u001b[0;34m\u001b[0m\u001b[0;34m\u001b[0m\u001b[0m\n\u001b[0;32m---> 25\u001b[0;31m         \u001b[0;32mreturn\u001b[0m \u001b[0mwrapped_func\u001b[0m\u001b[0;34m(\u001b[0m\u001b[0;34m*\u001b[0m\u001b[0margs\u001b[0m\u001b[0;34m,\u001b[0m \u001b[0;34m**\u001b[0m\u001b[0mkwargs\u001b[0m\u001b[0;34m)\u001b[0m\u001b[0;34m\u001b[0m\u001b[0;34m\u001b[0m\u001b[0m\n\u001b[0m\u001b[1;32m     26\u001b[0m \u001b[0;34m\u001b[0m\u001b[0m\n\u001b[1;32m     27\u001b[0m     \u001b[0;32mreturn\u001b[0m \u001b[0m__impl__\u001b[0m\u001b[0;34m\u001b[0m\u001b[0;34m\u001b[0m\u001b[0m\n",
      "\u001b[0;32m/opt/conda/envs/python35-paddle120-env/lib/python3.7/site-packages/paddle/fluid/framework.py\u001b[0m in \u001b[0;36m__impl__\u001b[0;34m(*args, **kwargs)\u001b[0m\n\u001b[1;32m    223\u001b[0m         assert in_dygraph_mode(\n\u001b[1;32m    224\u001b[0m         ), \"We only support '%s()' in dynamic graph mode, please call 'paddle.disable_static()' to enter dynamic graph mode.\" % func.__name__\n\u001b[0;32m--> 225\u001b[0;31m         \u001b[0;32mreturn\u001b[0m \u001b[0mfunc\u001b[0m\u001b[0;34m(\u001b[0m\u001b[0;34m*\u001b[0m\u001b[0margs\u001b[0m\u001b[0;34m,\u001b[0m \u001b[0;34m**\u001b[0m\u001b[0mkwargs\u001b[0m\u001b[0;34m)\u001b[0m\u001b[0;34m\u001b[0m\u001b[0;34m\u001b[0m\u001b[0m\n\u001b[0m\u001b[1;32m    226\u001b[0m \u001b[0;34m\u001b[0m\u001b[0m\n\u001b[1;32m    227\u001b[0m     \u001b[0;32mreturn\u001b[0m \u001b[0m__impl__\u001b[0m\u001b[0;34m\u001b[0m\u001b[0;34m\u001b[0m\u001b[0m\n",
      "\u001b[0;32m/opt/conda/envs/python35-paddle120-env/lib/python3.7/site-packages/paddle/fluid/dygraph/varbase_patch_methods.py\u001b[0m in \u001b[0;36mbackward\u001b[0;34m(self, retain_graph)\u001b[0m\n\u001b[1;32m    175\u001b[0m                                           retain_graph)\n\u001b[1;32m    176\u001b[0m             \u001b[0;32melse\u001b[0m\u001b[0;34m:\u001b[0m\u001b[0;34m\u001b[0m\u001b[0;34m\u001b[0m\u001b[0m\n\u001b[0;32m--> 177\u001b[0;31m                 \u001b[0mself\u001b[0m\u001b[0;34m.\u001b[0m\u001b[0m_run_backward\u001b[0m\u001b[0;34m(\u001b[0m\u001b[0mframework\u001b[0m\u001b[0;34m.\u001b[0m\u001b[0m_dygraph_tracer\u001b[0m\u001b[0;34m(\u001b[0m\u001b[0;34m)\u001b[0m\u001b[0;34m,\u001b[0m \u001b[0mretain_graph\u001b[0m\u001b[0;34m)\u001b[0m\u001b[0;34m\u001b[0m\u001b[0;34m\u001b[0m\u001b[0m\n\u001b[0m\u001b[1;32m    178\u001b[0m         \u001b[0;32melse\u001b[0m\u001b[0;34m:\u001b[0m\u001b[0;34m\u001b[0m\u001b[0;34m\u001b[0m\u001b[0m\n\u001b[1;32m    179\u001b[0m             raise ValueError(\n",
      "\u001b[0;31mKeyboardInterrupt\u001b[0m: "
     ]
    }
   ],
   "source": [
    "model_param = paddle.load(\"./work/ens_ps_acc_epoch33_8872.pdparams\")\r\n",
    "model_ensem.set_state_dict(model_param)\r\n",
    "optimizer = optim.Adam(parameters=model_ensem.parameters(), learning_rate=0.00001, weight_decay=0.01)\r\n",
    "loss_list, acc_list = trainModel(model_ensem, loss_fn, optimizer, device, train_loader, start_epoch=33, epoches=20, model_name=\"ens_ps\", start_save_acc=0.8872)"
   ]
  },
  {
   "cell_type": "code",
   "execution_count": null,
   "metadata": {
    "collapsed": false
   },
   "outputs": [],
   "source": [
    "with open(\"./work/loss_list.pkl\", \"wb\") as f:\r\n",
    "    pickle.dump(loss_list, f)\r\n",
    "\r\n",
    "with open(\"./work/acc_list.pkl\", \"wb\") as f:\r\n",
    "    pickle.dump(acc_list, f)"
   ]
  },
  {
   "cell_type": "markdown",
   "metadata": {
    "collapsed": false
   },
   "source": [
    "### 绘制损失及ACC变化曲线"
   ]
  },
  {
   "cell_type": "code",
   "execution_count": null,
   "metadata": {
    "collapsed": false
   },
   "outputs": [
    {
     "name": "stderr",
     "output_type": "stream",
     "text": [
      "/opt/conda/envs/python35-paddle120-env/lib/python3.7/site-packages/matplotlib/cbook/__init__.py:2349: DeprecationWarning: Using or importing the ABCs from 'collections' instead of from 'collections.abc' is deprecated, and in 3.8 it will stop working\n",
      "  if isinstance(obj, collections.Iterator):\n",
      "/opt/conda/envs/python35-paddle120-env/lib/python3.7/site-packages/matplotlib/cbook/__init__.py:2366: DeprecationWarning: Using or importing the ABCs from 'collections' instead of from 'collections.abc' is deprecated, and in 3.8 it will stop working\n",
      "  return list(data) if isinstance(data, collections.MappingView) else data\n"
     ]
    },
    {
     "data": {
      "image/png": "[encoded data removed]",
      "text/plain": [
       "<Figure size 432x288 with 1 Axes>"
      ]
     },
     "metadata": {},
     "output_type": "display_data"
    },
    {
     "data": {
      "image/png": "[encoded data removed]",
      "text/plain": [
       "<Figure size 432x288 with 1 Axes>"
      ]
     },
     "metadata": {},
     "output_type": "display_data"
    }
   ],
   "source": [
    "plt.figure()\r\n",
    "plt.plot(loss_list)\r\n",
    "plt.show()\r\n",
    "plt.plot(acc_list)\r\n",
    "plt.show()"
   ]
  },
  {
   "cell_type": "markdown",
   "metadata": {
    "collapsed": false
   },
   "source": [
    "### 读取测试集数据并进行推断"
   ]
  },
  {
   "cell_type": "code",
   "execution_count": 36,
   "metadata": {
    "collapsed": false
   },
   "outputs": [],
   "source": [
    "USE_TIME = True"
   ]
  },
  {
   "cell_type": "code",
   "execution_count": 37,
   "metadata": {
    "collapsed": false
   },
   "outputs": [
    {
     "name": "stdout",
     "output_type": "stream",
     "text": [
      "StartMem:28.61Mb, EndMem:6.87Mb (76.0% reduction)\n"
     ]
    }
   ],
   "source": [
    "if USE_TIME:\r\n",
    "    test = pd.read_csv(DATA_PATH + \"lbe_raw_test_with_time.csv\")\r\n",
    "else:\r\n",
    "    test = pd.read_csv(DATA_PATH + \"lbe_raw_test.csv\")\r\n",
    "test = reduce_mem_usage(test, use_uint=False)"
   ]
  },
  {
   "cell_type": "code",
   "execution_count": 38,
   "metadata": {
    "collapsed": false
   },
   "outputs": [],
   "source": [
    "X_test = test[feat_list].values"
   ]
  },
  {
   "cell_type": "code",
   "execution_count": 39,
   "metadata": {
    "collapsed": false
   },
   "outputs": [],
   "source": [
    "def predict(model, data):\r\n",
    "    data = paddle.to_tensor(data)\r\n",
    "    y_pre = model(data)\r\n",
    "    y_pre = y_pre.squeeze(-1)\r\n",
    "    return y_pre.numpy()"
   ]
  },
  {
   "cell_type": "code",
   "execution_count": 40,
   "metadata": {
    "collapsed": false
   },
   "outputs": [],
   "source": [
    "def getYtest(model, data):\r\n",
    "    # 分割一下data\r\n",
    "    data_list = []\r\n",
    "    # 每块大小变更为batch_size, 然后统一装到list中\r\n",
    "    i = 0\r\n",
    "    while i <= data.shape[0]:\r\n",
    "        data_list.append(data[i:i+BATCH_SIZE])\r\n",
    "        i += BATCH_SIZE\r\n",
    "    # 按块预测，然后再拼接结果\r\n",
    "    y_test_pre = predict(model, data_list[0])\r\n",
    "    for d in data_list[1:]:\r\n",
    "        y_test_pre = np.append(y_test_pre, predict(model, d))\r\n",
    "\r\n",
    "    #y_test_pre = predict(model, data)\r\n",
    "    y_test_label = list(map(lambda x: 1 if x >= 0.5 else 0, y_test_pre))\r\n",
    "    return y_test_pre, y_test_label"
   ]
  },
  {
   "cell_type": "code",
   "execution_count": 61,
   "metadata": {
    "collapsed": false
   },
   "outputs": [],
   "source": [
    "model_param = paddle.load(\"./work/ens_pds_loss_epoch17.pdparams\")\r\n",
    "model_ensem.set_state_dict(model_param)"
   ]
  },
  {
   "cell_type": "code",
   "execution_count": 56,
   "metadata": {
    "collapsed": false
   },
   "outputs": [],
   "source": [
    "model_param = paddle.load(\"./work/smb_loss_epoch11.pdparams\")\r\n",
    "model_smb.set_state_dict(model_param)"
   ]
  },
  {
   "cell_type": "code",
   "execution_count": 62,
   "metadata": {
    "collapsed": false
   },
   "outputs": [],
   "source": [
    "y_test_pre, y_test_label = getYtest(model_ensem, X_test)"
   ]
  },
  {
   "cell_type": "code",
   "execution_count": 57,
   "metadata": {
    "collapsed": false
   },
   "outputs": [],
   "source": [
    "y_test_pre, y_test_label = getYtest(model_smb, X_test)"
   ]
  },
  {
   "cell_type": "code",
   "execution_count": 63,
   "metadata": {
    "collapsed": false
   },
   "outputs": [
    {
     "data": {
      "text/plain": [
       "0.46069333333333334"
      ]
     },
     "execution_count": 63,
     "metadata": {},
     "output_type": "execute_result"
    }
   ],
   "source": [
    "sum(y_test_label) / len(y_test_label)"
   ]
  },
  {
   "cell_type": "code",
   "execution_count": 43,
   "metadata": {
    "collapsed": false
   },
   "outputs": [
    {
     "data": {
      "text/plain": [
       "0.46314"
      ]
     },
     "execution_count": 43,
     "metadata": {},
     "output_type": "execute_result"
    }
   ],
   "source": [
    "sum(y_test_label) / len(y_test_label)"
   ]
  },
  {
   "cell_type": "code",
   "execution_count": null,
   "metadata": {
    "collapsed": false
   },
   "outputs": [],
   "source": [
    "# 把模型预测输出存储至文件\r\n",
    "with open(\"./work/pmb_8871_pred.pkl\", \"wb\") as f:\r\n",
    "    pickle.dump(y_test_pre, f)"
   ]
  },
  {
   "cell_type": "markdown",
   "metadata": {
    "collapsed": false
   },
   "source": [
    "### 融合SMB、PMB和DEEPFM"
   ]
  },
  {
   "cell_type": "code",
   "execution_count": null,
   "metadata": {
    "collapsed": false
   },
   "outputs": [],
   "source": [
    "def mergePredVals(pred_list, weight_list):\r\n",
    "    data_nums = len(pred_list[0])\r\n",
    "    model_nums = len(pred_list)\r\n",
    "    merge_vals = []\r\n",
    "    for i in range(data_nums):\r\n",
    "        merge_val = 0\r\n",
    "        for j in range(model_nums):\r\n",
    "            merge_val += weight_list[j] * pred_list[j][i]\r\n",
    "        merge_vals.append(merge_val)\r\n",
    "    res_label = list(map(lambda x: 1 if x >= 0.5 else 0, merge_vals))\r\n",
    "    return res_label"
   ]
  },
  {
   "cell_type": "code",
   "execution_count": null,
   "metadata": {
    "collapsed": false
   },
   "outputs": [],
   "source": [
    "# 读取pmb预测\r\n",
    "with open(\"./work/pmb_8867_pred.pkl\", \"rb\") as f:\r\n",
    "    pmb_test_pre = pickle.load(f)"
   ]
  },
  {
   "cell_type": "code",
   "execution_count": null,
   "metadata": {
    "collapsed": false
   },
   "outputs": [],
   "source": [
    "# 读取dfm的预测\r\n",
    "with open(\"./work/dfm_88702_pred.pkl\", \"rb\") as f:\r\n",
    "    dfm_test_pre = pickle.load(f)"
   ]
  },
  {
   "cell_type": "code",
   "execution_count": null,
   "metadata": {
    "collapsed": false
   },
   "outputs": [],
   "source": [
    "pred_list = []\r\n",
    "pred_list.append(pmb_test_pre)\r\n",
    "#pred_list.append(y_test_pre)\r\n",
    "pred_list.append(dfm_test_pre)"
   ]
  },
  {
   "cell_type": "code",
   "execution_count": null,
   "metadata": {
    "collapsed": false
   },
   "outputs": [],
   "source": [
    "weight_list = [0.5, 0.5]"
   ]
  },
  {
   "cell_type": "code",
   "execution_count": null,
   "metadata": {
    "collapsed": false
   },
   "outputs": [],
   "source": [
    "merge_label = mergePredVals(pred_list, weight_list)"
   ]
  },
  {
   "cell_type": "code",
   "execution_count": null,
   "metadata": {
    "collapsed": false
   },
   "outputs": [
    {
     "data": {
      "text/plain": [
       "0.46667333333333333"
      ]
     },
     "execution_count": null,
     "metadata": {},
     "output_type": "execute_result"
    }
   ],
   "source": [
    "sum(merge_label) / len(merge_label)"
   ]
  },
  {
   "cell_type": "markdown",
   "metadata": {
    "collapsed": false
   },
   "source": [
    "### 生成提交文件"
   ]
  },
  {
   "cell_type": "code",
   "execution_count": 44,
   "metadata": {
    "collapsed": false
   },
   "outputs": [],
   "source": [
    "def getSubmission(df, y_test_label, save_path):\r\n",
    "    df[\"label\"] = y_test_label\r\n",
    "    submission = df[[\"sid\", \"label\"]]\r\n",
    "    submission.to_csv(save_path, index=False)"
   ]
  },
  {
   "cell_type": "code",
   "execution_count": 64,
   "metadata": {
    "collapsed": false
   },
   "outputs": [],
   "source": [
    "#getSubmission(test, merge_label, \"./work/submission_merge2.csv\")\r\n",
    "getSubmission(test, y_test_label, \"./work/ens_ps_17.csv\")"
   ]
  },
  {
   "cell_type": "code",
   "execution_count": null,
   "metadata": {
    "collapsed": false
   },
   "outputs": [
    {
     "data": {
      "text/plain": [
       "array([0.09149647, 0.7825435 , 0.01575657, ..., 0.9732083 , 0.9520463 ,\n",
       "       0.9551207 ], dtype=float32)"
      ]
     },
     "execution_count": null,
     "metadata": {},
     "output_type": "execute_result"
    }
   ],
   "source": [
    "y_test_pre"
   ]
  },
  {
   "cell_type": "code",
   "execution_count": null,
   "metadata": {
    "collapsed": false
   },
   "outputs": [
    {
     "data": {
      "text/plain": [
       "Parameter containing:\n",
       "Tensor(shape=[1, 1], dtype=float32, place=CUDAPlace(0), stop_gradient=False,\n",
       "       [[0.38271877]])"
      ]
     },
     "execution_count": null,
     "metadata": {},
     "output_type": "execute_result"
    }
   ],
   "source": [
    "model_ensem.model_w"
   ]
  },
  {
   "cell_type": "code",
   "execution_count": null,
   "metadata": {
    "collapsed": false
   },
   "outputs": [],
   "source": [
    "model_dfm = DeepFM(cardi_dict=cardi_dict, emb_dim=64, dnn_list=[512, 256, 64])"
   ]
  },
  {
   "cell_type": "code",
   "execution_count": null,
   "metadata": {
    "collapsed": false
   },
   "outputs": [
    {
     "name": "stdout",
     "output_type": "stream",
     "text": [
      "DeepFM(\n",
      "  (emb_layers): LayerList(\n",
      "    (0): Embedding(467958, 64, sparse=False)\n",
      "    (1): Embedding(292, 64, sparse=False)\n",
      "    (2): Embedding(2102, 64, sparse=False)\n",
      "    (3): Embedding(89, 64, sparse=False)\n",
      "    (4): Embedding(23, 64, sparse=False)\n",
      "    (5): Embedding(509473, 64, sparse=False)\n",
      "    (6): Embedding(6147, 64, sparse=False)\n",
      "    (7): Embedding(58, 64, sparse=False)\n",
      "    (8): Embedding(332, 64, sparse=False)\n",
      "    (9): Embedding(5, 64, sparse=False)\n",
      "    (10): Embedding(864, 64, sparse=False)\n",
      "    (11): Embedding(382, 64, sparse=False)\n",
      "    (12): Embedding(105, 64, sparse=False)\n",
      "    (13): Embedding(25, 64, sparse=False)\n",
      "    (14): Embedding(8, 64, sparse=False)\n",
      "    (15): Embedding(165, 64, sparse=False)\n",
      "    (16): Embedding(2, 64, sparse=False)\n",
      "    (17): Embedding(8, 64, sparse=False)\n",
      "    (18): Embedding(7, 64, sparse=False)\n",
      "    (19): Embedding(24, 64, sparse=False)\n",
      "    (20): Embedding(60, 64, sparse=False)\n",
      "    (21): Embedding(60, 64, sparse=False)\n",
      "  )\n",
      "  (cross_w_list): ParameterList()\n",
      "  (mlp): MLP(\n",
      "    (fc_layers): LayerList(\n",
      "      (0): Linear(in_features=1408, out_features=512, dtype=float32)\n",
      "      (1): Linear(in_features=512, out_features=256, dtype=float32)\n",
      "    )\n",
      "  )\n",
      "  (sum_w_list): ParameterList()\n",
      "  (fc): Linear(in_features=320, out_features=1, dtype=float32)\n",
      ")\n"
     ]
    }
   ],
   "source": [
    "print(model_dfm)"
   ]
  },
  {
   "cell_type": "code",
   "execution_count": null,
   "metadata": {
    "collapsed": false
   },
   "outputs": [],
   "source": []
  }
 ],
 "metadata": {
  "kernelspec": {
   "display_name": "PaddlePaddle 2.0.0b0 (Python 3.5)",
   "language": "python",
   "name": "py35-paddle1.2.0"
  },
  "language_info": {
   "codemirror_mode": {
    "name": "ipython",
    "version": 3
   },
   "file_extension": ".py",
   "mimetype": "text/x-python",
   "name": "python",
   "nbconvert_exporter": "python",
   "pygments_lexer": "ipython3",
   "version": "3.7.4"
  }
 },
 "nbformat": 4,
 "nbformat_minor": 1
}
