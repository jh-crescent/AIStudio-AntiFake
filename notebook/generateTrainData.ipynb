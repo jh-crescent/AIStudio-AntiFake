{
 "cells": [
  {
   "cell_type": "code",
   "execution_count": 1,
   "metadata": {},
   "outputs": [],
   "source": [
    "import numpy as np\n",
    "import pandas as pd\n",
    "import matplotlib.pyplot as plt\n",
    "\n",
    "import sys\n",
    "sys.path.append(\"D:/AnacondaSpace/JupyterSpace/\")\n",
    "\n",
    "import gc\n",
    "\n",
    "import datetime\n",
    "import time\n",
    "from sklearn.preprocessing import LabelEncoder\n",
    "import pickle"
   ]
  },
  {
   "cell_type": "code",
   "execution_count": 2,
   "metadata": {},
   "outputs": [],
   "source": [
    "plt.rcParams['font.sans-serif'] = [u'SimHei']\n",
    "plt.rcParams['axes.unicode_minus'] = False"
   ]
  },
  {
   "cell_type": "code",
   "execution_count": 3,
   "metadata": {},
   "outputs": [],
   "source": [
    "DATA_PATH = \"G:/RecommdationDataset/AIStudio/antiFake/\""
   ]
  },
  {
   "cell_type": "code",
   "execution_count": 4,
   "metadata": {},
   "outputs": [],
   "source": [
    "raw_data = pd.read_csv(DATA_PATH + \"train.csv\", index_col=0)"
   ]
  },
  {
   "cell_type": "code",
   "execution_count": 5,
   "metadata": {
    "code_folding": [
     0
    ]
   },
   "outputs": [],
   "source": [
    "def reduce_mem_usage(df, use_uint=True, verbose=True):\n",
    "    \"\"\"\n",
    "    节约内存函数\n",
    "    :param df: 原始从文件中读取出来的df数据\n",
    "    :param use_uint: 是否使用无符号整型处理数据\n",
    "    :param verbose: 是否打印输出处理前后内存占用情况\n",
    "    :return: 处理后的df\n",
    "    \"\"\"\n",
    "    numerics = ['uint8', 'uint16', 'uint32', 'uint64',\n",
    "                'int8', 'int16', 'int32', 'int64', \n",
    "                'float16', 'float32', 'float64']\n",
    "    start_mem = df.memory_usage().sum() / 1024**2    \n",
    "    for col in df.columns:\n",
    "        col_type = df[col].dtypes\n",
    "        if col_type in numerics:\n",
    "            c_min = df[col].min()\n",
    "            c_max = df[col].max()\n",
    "            if 'int' in str(col_type):\n",
    "                if use_uint and c_min >= 0:  # uint类型\n",
    "                    if c_max <= np.iinfo(np.uint8).max:\n",
    "                        df[col] = df[col].astype(np.uint8)\n",
    "                    elif c_max <= np.iinfo(np.uint16).max:\n",
    "                        df[col] = df[col].astype(np.uint16)\n",
    "                    elif c_max <= np.iinfo(np.uint32).max:\n",
    "                        df[col] = df[col].astype(np.uint32)\n",
    "                    else:\n",
    "                        df[col] = df[col].astype(np.uint64)\n",
    "                else:  # signed int类型\n",
    "                    if c_min >= np.iinfo(np.int8).min and c_max <= np.iinfo(np.int8).max:\n",
    "                        df[col] = df[col].astype(np.int8)\n",
    "                    elif c_min >= np.iinfo(np.int16).min and c_max <= np.iinfo(np.int16).max:\n",
    "                        df[col] = df[col].astype(np.int16)\n",
    "                    elif c_min >= np.iinfo(np.int32).min and c_max <= np.iinfo(np.int32).max:\n",
    "                        df[col] = df[col].astype(np.int32)\n",
    "                    else:\n",
    "                        df[col] = df[col].astype(np.int64)  \n",
    "            else:  # float类型\n",
    "                if c_min >= np.finfo(np.float16).min and c_max <= np.finfo(np.float16).max:\n",
    "                    df[col] = df[col].astype(np.float16)\n",
    "                elif c_min >= np.finfo(np.float32).min and c_max <= np.finfo(np.float32).max:\n",
    "                    df[col] = df[col].astype(np.float32)\n",
    "                else:\n",
    "                    df[col] = df[col].astype(np.float64)    \n",
    "    end_mem = df.memory_usage().sum() / 1024**2\n",
    "    if verbose: \n",
    "        print('StartMem:{:.2f}Mb, EndMem:{:.2f}Mb ({:.1f}% reduction)'.format(start_mem, end_mem, 100 * (start_mem - end_mem) / start_mem))\n",
    "    return df"
   ]
  },
  {
   "cell_type": "code",
   "execution_count": 6,
   "metadata": {},
   "outputs": [
    {
     "name": "stdout",
     "output_type": "stream",
     "text": [
      "StartMem:80.11Mb, EndMem:42.44Mb (47.0% reduction)\n"
     ]
    }
   ],
   "source": [
    "raw_data = reduce_mem_usage(raw_data, use_uint=False)"
   ]
  },
  {
   "cell_type": "markdown",
   "metadata": {},
   "source": [
    "## 数据基本情况查看"
   ]
  },
  {
   "cell_type": "code",
   "execution_count": 10,
   "metadata": {
    "scrolled": true
   },
   "outputs": [
    {
     "data": {
      "text/html": [
       "<div>\n",
       "<style scoped>\n",
       "    .dataframe tbody tr th:only-of-type {\n",
       "        vertical-align: middle;\n",
       "    }\n",
       "\n",
       "    .dataframe tbody tr th {\n",
       "        vertical-align: top;\n",
       "    }\n",
       "\n",
       "    .dataframe thead th {\n",
       "        text-align: right;\n",
       "    }\n",
       "</style>\n",
       "<table border=\"1\" class=\"dataframe\">\n",
       "  <thead>\n",
       "    <tr style=\"text-align: right;\">\n",
       "      <th></th>\n",
       "      <th>android_id</th>\n",
       "      <th>apptype</th>\n",
       "      <th>carrier</th>\n",
       "      <th>dev_height</th>\n",
       "      <th>dev_ppi</th>\n",
       "      <th>dev_width</th>\n",
       "      <th>label</th>\n",
       "      <th>lan</th>\n",
       "      <th>media_id</th>\n",
       "      <th>ntt</th>\n",
       "      <th>os</th>\n",
       "      <th>osv</th>\n",
       "      <th>package</th>\n",
       "      <th>sid</th>\n",
       "      <th>timestamp</th>\n",
       "      <th>version</th>\n",
       "      <th>fea_hash</th>\n",
       "      <th>location</th>\n",
       "      <th>fea1_hash</th>\n",
       "      <th>cus_type</th>\n",
       "    </tr>\n",
       "  </thead>\n",
       "  <tbody>\n",
       "    <tr>\n",
       "      <th>0</th>\n",
       "      <td>316361</td>\n",
       "      <td>1199</td>\n",
       "      <td>46016.0</td>\n",
       "      <td>0.0</td>\n",
       "      <td>0.0</td>\n",
       "      <td>0.0</td>\n",
       "      <td>1</td>\n",
       "      <td>NaN</td>\n",
       "      <td>104</td>\n",
       "      <td>6.0</td>\n",
       "      <td>android</td>\n",
       "      <td>9</td>\n",
       "      <td>18</td>\n",
       "      <td>1438873</td>\n",
       "      <td>1.559893e+12</td>\n",
       "      <td>8</td>\n",
       "      <td>2135019403</td>\n",
       "      <td>0</td>\n",
       "      <td>2329670524</td>\n",
       "      <td>601</td>\n",
       "    </tr>\n",
       "    <tr>\n",
       "      <th>1</th>\n",
       "      <td>135939</td>\n",
       "      <td>893</td>\n",
       "      <td>0.0</td>\n",
       "      <td>0.0</td>\n",
       "      <td>0.0</td>\n",
       "      <td>0.0</td>\n",
       "      <td>1</td>\n",
       "      <td>NaN</td>\n",
       "      <td>19</td>\n",
       "      <td>6.0</td>\n",
       "      <td>android</td>\n",
       "      <td>8.1</td>\n",
       "      <td>0</td>\n",
       "      <td>1185582</td>\n",
       "      <td>1.559994e+12</td>\n",
       "      <td>4</td>\n",
       "      <td>2782306428</td>\n",
       "      <td>1</td>\n",
       "      <td>2864801071</td>\n",
       "      <td>1000</td>\n",
       "    </tr>\n",
       "    <tr>\n",
       "      <th>2</th>\n",
       "      <td>399254</td>\n",
       "      <td>821</td>\n",
       "      <td>0.0</td>\n",
       "      <td>760.0</td>\n",
       "      <td>0.0</td>\n",
       "      <td>360.0</td>\n",
       "      <td>1</td>\n",
       "      <td>NaN</td>\n",
       "      <td>559</td>\n",
       "      <td>0.0</td>\n",
       "      <td>android</td>\n",
       "      <td>8.1.0</td>\n",
       "      <td>0</td>\n",
       "      <td>1555716</td>\n",
       "      <td>1.559837e+12</td>\n",
       "      <td>0</td>\n",
       "      <td>1392806005</td>\n",
       "      <td>2</td>\n",
       "      <td>628911675</td>\n",
       "      <td>696</td>\n",
       "    </tr>\n",
       "    <tr>\n",
       "      <th>3</th>\n",
       "      <td>68983</td>\n",
       "      <td>1004</td>\n",
       "      <td>46016.0</td>\n",
       "      <td>2214.0</td>\n",
       "      <td>0.0</td>\n",
       "      <td>1080.0</td>\n",
       "      <td>0</td>\n",
       "      <td>NaN</td>\n",
       "      <td>129</td>\n",
       "      <td>2.0</td>\n",
       "      <td>android</td>\n",
       "      <td>8.1.0</td>\n",
       "      <td>0</td>\n",
       "      <td>1093419</td>\n",
       "      <td>1.560042e+12</td>\n",
       "      <td>0</td>\n",
       "      <td>3562553457</td>\n",
       "      <td>3</td>\n",
       "      <td>1283809327</td>\n",
       "      <td>753</td>\n",
       "    </tr>\n",
       "    <tr>\n",
       "      <th>4</th>\n",
       "      <td>288999</td>\n",
       "      <td>1076</td>\n",
       "      <td>46016.0</td>\n",
       "      <td>2280.0</td>\n",
       "      <td>0.0</td>\n",
       "      <td>1080.0</td>\n",
       "      <td>1</td>\n",
       "      <td>zh-CN</td>\n",
       "      <td>64</td>\n",
       "      <td>2.0</td>\n",
       "      <td>android</td>\n",
       "      <td>8.0.0</td>\n",
       "      <td>0</td>\n",
       "      <td>1400089</td>\n",
       "      <td>1.559867e+12</td>\n",
       "      <td>5</td>\n",
       "      <td>2364522023</td>\n",
       "      <td>4</td>\n",
       "      <td>1510695983</td>\n",
       "      <td>582</td>\n",
       "    </tr>\n",
       "  </tbody>\n",
       "</table>\n",
       "</div>"
      ],
      "text/plain": [
       "   android_id  apptype  carrier  dev_height  dev_ppi  dev_width  label    lan  \\\n",
       "0      316361     1199  46016.0         0.0      0.0        0.0      1    NaN   \n",
       "1      135939      893      0.0         0.0      0.0        0.0      1    NaN   \n",
       "2      399254      821      0.0       760.0      0.0      360.0      1    NaN   \n",
       "3       68983     1004  46016.0      2214.0      0.0     1080.0      0    NaN   \n",
       "4      288999     1076  46016.0      2280.0      0.0     1080.0      1  zh-CN   \n",
       "\n",
       "   media_id  ntt       os    osv  package      sid     timestamp version  \\\n",
       "0       104  6.0  android      9       18  1438873  1.559893e+12       8   \n",
       "1        19  6.0  android    8.1        0  1185582  1.559994e+12       4   \n",
       "2       559  0.0  android  8.1.0        0  1555716  1.559837e+12       0   \n",
       "3       129  2.0  android  8.1.0        0  1093419  1.560042e+12       0   \n",
       "4        64  2.0  android  8.0.0        0  1400089  1.559867e+12       5   \n",
       "\n",
       "     fea_hash  location   fea1_hash  cus_type  \n",
       "0  2135019403         0  2329670524       601  \n",
       "1  2782306428         1  2864801071      1000  \n",
       "2  1392806005         2   628911675       696  \n",
       "3  3562553457         3  1283809327       753  \n",
       "4  2364522023         4  1510695983       582  "
      ]
     },
     "execution_count": 10,
     "metadata": {},
     "output_type": "execute_result"
    }
   ],
   "source": [
    "raw_data.head()"
   ]
  },
  {
   "cell_type": "code",
   "execution_count": 11,
   "metadata": {},
   "outputs": [
    {
     "data": {
      "text/plain": [
       "(500000, 20)"
      ]
     },
     "execution_count": 11,
     "metadata": {},
     "output_type": "execute_result"
    }
   ],
   "source": [
    "raw_data.shape"
   ]
  },
  {
   "cell_type": "markdown",
   "metadata": {},
   "source": [
    "### 查看正负样本情况"
   ]
  },
  {
   "cell_type": "code",
   "execution_count": 15,
   "metadata": {},
   "outputs": [],
   "source": [
    "pos_data = raw_data.loc[raw_data.label == 0]\n",
    "neg_data = raw_data.loc[raw_data.label == 1]"
   ]
  },
  {
   "cell_type": "code",
   "execution_count": 16,
   "metadata": {},
   "outputs": [
    {
     "name": "stdout",
     "output_type": "stream",
     "text": [
      "(257760, 20) (242240, 20)\n"
     ]
    }
   ],
   "source": [
    "print(pos_data.shape, neg_data.shape)"
   ]
  },
  {
   "cell_type": "code",
   "execution_count": 17,
   "metadata": {},
   "outputs": [
    {
     "data": {
      "text/plain": [
       "0.51552"
      ]
     },
     "execution_count": 17,
     "metadata": {},
     "output_type": "execute_result"
    }
   ],
   "source": [
    "257760 / (242240 + 257760)"
   ]
  },
  {
   "cell_type": "markdown",
   "metadata": {},
   "source": [
    "### 查看语言情况"
   ]
  },
  {
   "cell_type": "code",
   "execution_count": 19,
   "metadata": {},
   "outputs": [
    {
     "data": {
      "text/plain": [
       "array([nan, 'zh-CN', 'zh', 'cn', 'Zh-CN', 'zh_CN', 'zh-cn', 'ZH', 'tw',\n",
       "       'CN', 'en-GB', 'TW', 'zh_CN_#Hans', 'en', 'zh-HK', 'en-US',\n",
       "       'zh-TW', 'mi'], dtype=object)"
      ]
     },
     "execution_count": 19,
     "metadata": {},
     "output_type": "execute_result"
    }
   ],
   "source": [
    "pos_data.lan.unique()"
   ]
  },
  {
   "cell_type": "code",
   "execution_count": 18,
   "metadata": {},
   "outputs": [
    {
     "data": {
      "text/plain": [
       "array([nan, 'zh-CN', 'zh-cn', 'cn', 'zh_CN', 'zh', 'Zh-CN', 'tw', 'en',\n",
       "       'ZH', 'CN', 'zh_CN_#Hans', 'ko', 'zh-MO', 'it', 'ja', 'en-US',\n",
       "       'zh-TW'], dtype=object)"
      ]
     },
     "execution_count": 18,
     "metadata": {},
     "output_type": "execute_result"
    }
   ],
   "source": [
    "neg_data.lan.unique()"
   ]
  },
  {
   "cell_type": "code",
   "execution_count": 20,
   "metadata": {},
   "outputs": [],
   "source": [
    "# 正负样本中语言缺失值数量\n",
    "neg_na_num = neg_data.loc[neg_data.lan.isna()].shape[0]\n",
    "pos_na_num = pos_data.loc[pos_data.lan.isna()].shape[0]"
   ]
  },
  {
   "cell_type": "code",
   "execution_count": 21,
   "metadata": {},
   "outputs": [
    {
     "data": {
      "text/plain": [
       "44661"
      ]
     },
     "execution_count": 21,
     "metadata": {},
     "output_type": "execute_result"
    }
   ],
   "source": [
    "neg_na_num"
   ]
  },
  {
   "cell_type": "code",
   "execution_count": 22,
   "metadata": {},
   "outputs": [
    {
     "data": {
      "text/plain": [
       "138619"
      ]
     },
     "execution_count": 22,
     "metadata": {},
     "output_type": "execute_result"
    }
   ],
   "source": [
    "pos_na_num"
   ]
  },
  {
   "cell_type": "code",
   "execution_count": 23,
   "metadata": {},
   "outputs": [
    {
     "data": {
      "text/plain": [
       "0.18436674372523118"
      ]
     },
     "execution_count": 23,
     "metadata": {},
     "output_type": "execute_result"
    }
   ],
   "source": [
    "44661 / 242240"
   ]
  },
  {
   "cell_type": "code",
   "execution_count": 24,
   "metadata": {},
   "outputs": [
    {
     "data": {
      "text/plain": [
       "0.5377832091868404"
      ]
     },
     "execution_count": 24,
     "metadata": {},
     "output_type": "execute_result"
    }
   ],
   "source": [
    "138619 / 257760"
   ]
  },
  {
   "cell_type": "markdown",
   "metadata": {},
   "source": [
    "### 负样本中语言设为nan的只占18%，而正样本中语言设为nan的则占比超过50%"
   ]
  },
  {
   "cell_type": "code",
   "execution_count": 25,
   "metadata": {},
   "outputs": [
    {
     "data": {
      "text/plain": [
       "array(['android', 'Android'], dtype=object)"
      ]
     },
     "execution_count": 25,
     "metadata": {},
     "output_type": "execute_result"
    }
   ],
   "source": [
    "# 查看系统分布\n",
    "pos_data.os.unique()"
   ]
  },
  {
   "cell_type": "code",
   "execution_count": 26,
   "metadata": {},
   "outputs": [
    {
     "data": {
      "text/plain": [
       "array(['android', 'Android'], dtype=object)"
      ]
     },
     "execution_count": 26,
     "metadata": {},
     "output_type": "execute_result"
    }
   ],
   "source": [
    "neg_data.os.unique()"
   ]
  },
  {
   "cell_type": "code",
   "execution_count": 28,
   "metadata": {},
   "outputs": [
    {
     "data": {
      "text/plain": [
       "0.7018272811918064"
      ]
     },
     "execution_count": 28,
     "metadata": {},
     "output_type": "execute_result"
    }
   ],
   "source": [
    "pos_data.loc[pos_data.os == \"android\"].shape[0] / pos_data.shape[0]"
   ]
  },
  {
   "cell_type": "code",
   "execution_count": 29,
   "metadata": {},
   "outputs": [
    {
     "data": {
      "text/plain": [
       "0.5047556142668428"
      ]
     },
     "execution_count": 29,
     "metadata": {},
     "output_type": "execute_result"
    }
   ],
   "source": [
    "neg_data.loc[neg_data.os == \"android\"].shape[0] / neg_data.shape[0]"
   ]
  },
  {
   "cell_type": "markdown",
   "metadata": {},
   "source": [
    "## 合并训练数据和测试数据，之后进行LabelEncoder"
   ]
  },
  {
   "cell_type": "code",
   "execution_count": 7,
   "metadata": {},
   "outputs": [],
   "source": [
    "init_dtype = {\"sid\":np.str_, \"package\":np.str_, \"version\":np.str_, \"android_id\":np.str_, \n",
    "              \"media_id\":np.str_, \"apptype\":np.int,  \"location\":np.int, \n",
    "              \"fea_hash\":np.str_, \"fea1_hash\":np.str_, \"cus_type\":np.str_, \"ntt\":np.int, \n",
    "              \"carrier\":np.str_, \"os\":np.str_, \"osv\":np.str_, \"lan\":np.str_, \n",
    "              \"dev_height\":np.int, \"dev_width\":np.int, \"dev_ppi\":np.int}"
   ]
  },
  {
   "cell_type": "code",
   "execution_count": 8,
   "metadata": {},
   "outputs": [],
   "source": [
    "raw_train = pd.read_csv(DATA_PATH + \"train.csv\", index_col=0, dtype=init_dtype)"
   ]
  },
  {
   "cell_type": "code",
   "execution_count": 9,
   "metadata": {},
   "outputs": [],
   "source": [
    "raw_test = pd.read_csv(DATA_PATH + \"test1.csv\", index_col=0, dtype=init_dtype)"
   ]
  },
  {
   "cell_type": "code",
   "execution_count": 10,
   "metadata": {},
   "outputs": [
    {
     "name": "stdout",
     "output_type": "stream",
     "text": [
      "StartMem:68.66Mb, EndMem:57.22Mb (16.7% reduction)\n",
      "StartMem:19.45Mb, EndMem:17.02Mb (12.5% reduction)\n"
     ]
    }
   ],
   "source": [
    "raw_train = reduce_mem_usage(raw_train, use_uint=False)\n",
    "raw_test = reduce_mem_usage(raw_test, use_uint=False)"
   ]
  },
  {
   "cell_type": "code",
   "execution_count": 11,
   "metadata": {},
   "outputs": [
    {
     "data": {
      "text/plain": [
       "(150000, 19)"
      ]
     },
     "execution_count": 11,
     "metadata": {},
     "output_type": "execute_result"
    }
   ],
   "source": [
    "raw_test.shape"
   ]
  },
  {
   "cell_type": "markdown",
   "metadata": {},
   "source": [
    "### 为测试集添加标签，其值全部设为-1"
   ]
  },
  {
   "cell_type": "code",
   "execution_count": 12,
   "metadata": {},
   "outputs": [],
   "source": [
    "raw_test[\"label\"] = -1"
   ]
  },
  {
   "cell_type": "code",
   "execution_count": 13,
   "metadata": {},
   "outputs": [
    {
     "data": {
      "text/plain": [
       "(500000, 20)"
      ]
     },
     "execution_count": 13,
     "metadata": {},
     "output_type": "execute_result"
    }
   ],
   "source": [
    "raw_train.shape"
   ]
  },
  {
   "cell_type": "markdown",
   "metadata": {},
   "source": [
    "### 合并训练集和测试集"
   ]
  },
  {
   "cell_type": "code",
   "execution_count": 14,
   "metadata": {},
   "outputs": [],
   "source": [
    "raw_data = raw_train.append(raw_test)"
   ]
  },
  {
   "cell_type": "code",
   "execution_count": 15,
   "metadata": {},
   "outputs": [
    {
     "data": {
      "text/plain": [
       "(650000, 20)"
      ]
     },
     "execution_count": 15,
     "metadata": {},
     "output_type": "execute_result"
    }
   ],
   "source": [
    "raw_data.shape"
   ]
  },
  {
   "cell_type": "markdown",
   "metadata": {},
   "source": [
    "### 填充nan数据，全部设为\"unk\"，作为独立的一类标签"
   ]
  },
  {
   "cell_type": "code",
   "execution_count": 16,
   "metadata": {},
   "outputs": [],
   "source": [
    "raw_data[\"lan\"] = raw_data.lan.fillna(\"unk\")"
   ]
  },
  {
   "cell_type": "code",
   "execution_count": 17,
   "metadata": {},
   "outputs": [],
   "source": [
    "raw_data[\"osv\"] = raw_data.osv.fillna(\"unk\")"
   ]
  },
  {
   "cell_type": "code",
   "execution_count": 9,
   "metadata": {
    "scrolled": true
   },
   "outputs": [
    {
     "data": {
      "text/plain": [
       "False"
      ]
     },
     "execution_count": 9,
     "metadata": {},
     "output_type": "execute_result"
    }
   ],
   "source": [
    "# 验证是否还存在空值\n",
    "np.any(raw_data.isna())"
   ]
  },
  {
   "cell_type": "code",
   "execution_count": 19,
   "metadata": {},
   "outputs": [
    {
     "data": {
      "text/plain": [
       "android_id     object\n",
       "apptype         int16\n",
       "carrier        object\n",
       "dev_height      int16\n",
       "dev_ppi         int16\n",
       "dev_width       int16\n",
       "label           int64\n",
       "lan            object\n",
       "media_id       object\n",
       "ntt              int8\n",
       "os             object\n",
       "osv            object\n",
       "package        object\n",
       "sid            object\n",
       "timestamp     float32\n",
       "version        object\n",
       "fea_hash       object\n",
       "location        int16\n",
       "fea1_hash      object\n",
       "cus_type       object\n",
       "dtype: object"
      ]
     },
     "execution_count": 19,
     "metadata": {},
     "output_type": "execute_result"
    }
   ],
   "source": [
    "# 查看各特征列数据类型\n",
    "raw_data.dtypes"
   ]
  },
  {
   "cell_type": "code",
   "execution_count": 71,
   "metadata": {},
   "outputs": [
    {
     "data": {
      "text/plain": [
       "Index(['android_id', 'apptype', 'carrier', 'dev_height', 'dev_ppi',\n",
       "       'dev_width', 'label', 'lan', 'media_id', 'ntt', 'os', 'osv', 'package',\n",
       "       'sid', 'timestamp', 'version', 'fea_hash', 'location', 'fea1_hash',\n",
       "       'cus_type'],\n",
       "      dtype='object')"
      ]
     },
     "execution_count": 71,
     "metadata": {},
     "output_type": "execute_result"
    }
   ],
   "source": [
    "# 查看各特征列\n",
    "raw_data.columns"
   ]
  },
  {
   "cell_type": "code",
   "execution_count": 20,
   "metadata": {},
   "outputs": [],
   "source": [
    "# 是否使用时间特征进行训练\n",
    "USE_TIME = True"
   ]
  },
  {
   "cell_type": "code",
   "execution_count": 21,
   "metadata": {},
   "outputs": [],
   "source": [
    "# 时间戳转换为str格式\n",
    "raw_data[\"timestamp\"] = raw_data[\"timestamp\"].\\\n",
    "    apply(lambda ts: time.strftime('%Y-%m-%d %H:%M:%S', time.gmtime(ts / 1000)))"
   ]
  },
  {
   "cell_type": "code",
   "execution_count": 24,
   "metadata": {},
   "outputs": [],
   "source": [
    "def transTime(df, column=\"timestamp\"):\n",
    "    \"\"\"\n",
    "        将str类型时间转换为datetime类型\n",
    "    \"\"\"\n",
    "    df[column] = list(map(lambda string: datetime.datetime.strptime(string, '%Y-%m-%d %H:%M:%S'), \n",
    "                              df[column]))"
   ]
  },
  {
   "cell_type": "code",
   "execution_count": 28,
   "metadata": {},
   "outputs": [],
   "source": [
    "def getTimeSplit(df):\n",
    "    \"\"\"\n",
    "        分割出时间的各个维度\n",
    "    \"\"\"\n",
    "    df[\"day\"] = list(map(lambda x: x.day, df[\"timestamp\"]))\n",
    "    df[\"day\"] = df[\"day\"].astype(np.int8)\n",
    "    df[\"weekday\"] = list(map(lambda x: x.weekday(), df[\"timestamp\"]))\n",
    "    df[\"weekday\"] = df[\"weekday\"].astype(np.int8)\n",
    "    df[\"hour\"] = list(map(lambda x: x.hour, df[\"timestamp\"]))\n",
    "    df[\"hour\"] = df[\"hour\"].astype(np.int8)\n",
    "    df[\"minute\"] = list(map(lambda x: x.minute, df[\"timestamp\"]))\n",
    "    df[\"minute\"] = df[\"minute\"].astype(np.int8)\n",
    "    df[\"second\"] = list(map(lambda x: x.second, df[\"timestamp\"]))\n",
    "    df[\"second\"] = df[\"second\"].astype(np.int8)"
   ]
  },
  {
   "cell_type": "code",
   "execution_count": 25,
   "metadata": {},
   "outputs": [],
   "source": [
    "if USE_TIME:\n",
    "    transTime(raw_data)  # 转换时间戳格式\n",
    "    getTimeSplit(raw_data)  # 分割出具体时间维度"
   ]
  },
  {
   "cell_type": "code",
   "execution_count": 39,
   "metadata": {},
   "outputs": [],
   "source": [
    "feat_list = ['android_id', 'apptype', 'carrier', 'dev_height', 'dev_ppi',\n",
    "       'dev_width', 'lan', 'media_id', 'ntt', 'os', 'osv', 'package',\n",
    "       'version', 'fea_hash', 'location', 'fea1_hash', 'cus_type']\n",
    "if USE_TIME:\n",
    "    feat_list.extend([\"day\", \"weekday\", \"hour\", \"minute\", \"second\"])"
   ]
  },
  {
   "cell_type": "code",
   "execution_count": 40,
   "metadata": {},
   "outputs": [],
   "source": [
    "feat_cardi_dict = {}"
   ]
  },
  {
   "cell_type": "code",
   "execution_count": 41,
   "metadata": {},
   "outputs": [
    {
     "name": "stdout",
     "output_type": "stream",
     "text": [
      "android_id:467958\n",
      "apptype:89\n",
      "carrier:5\n",
      "dev_height:864\n",
      "dev_ppi:105\n",
      "dev_width:382\n",
      "lan:25\n",
      "media_id:292\n",
      "ntt:8\n",
      "os:2\n",
      "osv:165\n",
      "package:2102\n",
      "version:23\n",
      "fea_hash:509473\n",
      "location:332\n",
      "fea1_hash:6147\n",
      "cus_type:58\n",
      "day:8\n",
      "weekday:7\n",
      "hour:24\n",
      "minute:60\n",
      "second:60\n"
     ]
    }
   ],
   "source": [
    "for feat in feat_list:\n",
    "    feat_cardi_dict[feat] = raw_data[feat].nunique()\n",
    "    print(f\"{feat}:{feat_cardi_dict[feat]}\")"
   ]
  },
  {
   "cell_type": "code",
   "execution_count": 42,
   "metadata": {},
   "outputs": [],
   "source": [
    "def lbeFeats(df, lbe_columns):\n",
    "    \"\"\"\n",
    "    对原始特征进行编码\n",
    "    如需将编码转换为原始数据可以使用:lbe.inverse_transform(df[column])\n",
    "    :param df:需要处理的dataframe\n",
    "    :param lbe_columns:需要进行编码的列, list\n",
    "    :return:编码的lbe对象字典, dict\n",
    "    \"\"\"\n",
    "    lbe_dict = {}\n",
    "    # 对每个特征列进行lbe\n",
    "    for column in lbe_columns:\n",
    "        lbe = LabelEncoder()\n",
    "        df[column] = lbe.fit_transform(df[column]).astype(str)\n",
    "        # 将当前lbe对象进行记录，以便后续恢复原始编码需要\n",
    "        lbe_dict[column + \"_lbe\"] = lbe\n",
    "    return lbe_dict"
   ]
  },
  {
   "cell_type": "code",
   "execution_count": 43,
   "metadata": {},
   "outputs": [],
   "source": [
    "lbe_dict = lbeFeats(raw_data, feat_list)"
   ]
  },
  {
   "cell_type": "code",
   "execution_count": 44,
   "metadata": {},
   "outputs": [
    {
     "data": {
      "text/plain": [
       "{'android_id_lbe': LabelEncoder(),\n",
       " 'apptype_lbe': LabelEncoder(),\n",
       " 'carrier_lbe': LabelEncoder(),\n",
       " 'dev_height_lbe': LabelEncoder(),\n",
       " 'dev_ppi_lbe': LabelEncoder(),\n",
       " 'dev_width_lbe': LabelEncoder(),\n",
       " 'lan_lbe': LabelEncoder(),\n",
       " 'media_id_lbe': LabelEncoder(),\n",
       " 'ntt_lbe': LabelEncoder(),\n",
       " 'os_lbe': LabelEncoder(),\n",
       " 'osv_lbe': LabelEncoder(),\n",
       " 'package_lbe': LabelEncoder(),\n",
       " 'version_lbe': LabelEncoder(),\n",
       " 'fea_hash_lbe': LabelEncoder(),\n",
       " 'location_lbe': LabelEncoder(),\n",
       " 'fea1_hash_lbe': LabelEncoder(),\n",
       " 'cus_type_lbe': LabelEncoder(),\n",
       " 'day_lbe': LabelEncoder(),\n",
       " 'weekday_lbe': LabelEncoder(),\n",
       " 'hour_lbe': LabelEncoder(),\n",
       " 'minute_lbe': LabelEncoder(),\n",
       " 'second_lbe': LabelEncoder()}"
      ]
     },
     "execution_count": 44,
     "metadata": {},
     "output_type": "execute_result"
    }
   ],
   "source": [
    "lbe_dict"
   ]
  },
  {
   "cell_type": "code",
   "execution_count": 45,
   "metadata": {},
   "outputs": [
    {
     "data": {
      "text/html": [
       "<div>\n",
       "<style scoped>\n",
       "    .dataframe tbody tr th:only-of-type {\n",
       "        vertical-align: middle;\n",
       "    }\n",
       "\n",
       "    .dataframe tbody tr th {\n",
       "        vertical-align: top;\n",
       "    }\n",
       "\n",
       "    .dataframe thead th {\n",
       "        text-align: right;\n",
       "    }\n",
       "</style>\n",
       "<table border=\"1\" class=\"dataframe\">\n",
       "  <thead>\n",
       "    <tr style=\"text-align: right;\">\n",
       "      <th></th>\n",
       "      <th>android_id</th>\n",
       "      <th>apptype</th>\n",
       "      <th>carrier</th>\n",
       "      <th>dev_height</th>\n",
       "      <th>dev_ppi</th>\n",
       "      <th>dev_width</th>\n",
       "      <th>label</th>\n",
       "      <th>lan</th>\n",
       "      <th>media_id</th>\n",
       "      <th>ntt</th>\n",
       "      <th>...</th>\n",
       "      <th>version</th>\n",
       "      <th>fea_hash</th>\n",
       "      <th>location</th>\n",
       "      <th>fea1_hash</th>\n",
       "      <th>cus_type</th>\n",
       "      <th>day</th>\n",
       "      <th>weekday</th>\n",
       "      <th>hour</th>\n",
       "      <th>minute</th>\n",
       "      <th>second</th>\n",
       "    </tr>\n",
       "  </thead>\n",
       "  <tbody>\n",
       "    <tr>\n",
       "      <th>0</th>\n",
       "      <td>159090</td>\n",
       "      <td>81</td>\n",
       "      <td>2</td>\n",
       "      <td>0</td>\n",
       "      <td>0</td>\n",
       "      <td>0</td>\n",
       "      <td>1</td>\n",
       "      <td>15</td>\n",
       "      <td>7</td>\n",
       "      <td>6</td>\n",
       "      <td>...</td>\n",
       "      <td>14</td>\n",
       "      <td>151517</td>\n",
       "      <td>1</td>\n",
       "      <td>2129</td>\n",
       "      <td>37</td>\n",
       "      <td>5</td>\n",
       "      <td>4</td>\n",
       "      <td>7</td>\n",
       "      <td>32</td>\n",
       "      <td>1</td>\n",
       "    </tr>\n",
       "    <tr>\n",
       "      <th>1</th>\n",
       "      <td>26571</td>\n",
       "      <td>31</td>\n",
       "      <td>1</td>\n",
       "      <td>0</td>\n",
       "      <td>0</td>\n",
       "      <td>0</td>\n",
       "      <td>1</td>\n",
       "      <td>15</td>\n",
       "      <td>112</td>\n",
       "      <td>6</td>\n",
       "      <td>...</td>\n",
       "      <td>9</td>\n",
       "      <td>236607</td>\n",
       "      <td>2</td>\n",
       "      <td>2952</td>\n",
       "      <td>0</td>\n",
       "      <td>6</td>\n",
       "      <td>5</td>\n",
       "      <td>11</td>\n",
       "      <td>40</td>\n",
       "      <td>40</td>\n",
       "    </tr>\n",
       "    <tr>\n",
       "      <th>2</th>\n",
       "      <td>219746</td>\n",
       "      <td>22</td>\n",
       "      <td>1</td>\n",
       "      <td>226</td>\n",
       "      <td>0</td>\n",
       "      <td>22</td>\n",
       "      <td>1</td>\n",
       "      <td>15</td>\n",
       "      <td>194</td>\n",
       "      <td>0</td>\n",
       "      <td>...</td>\n",
       "      <td>1</td>\n",
       "      <td>52632</td>\n",
       "      <td>3</td>\n",
       "      <td>5580</td>\n",
       "      <td>42</td>\n",
       "      <td>4</td>\n",
       "      <td>3</td>\n",
       "      <td>15</td>\n",
       "      <td>59</td>\n",
       "      <td>13</td>\n",
       "    </tr>\n",
       "    <tr>\n",
       "      <th>3</th>\n",
       "      <td>432118</td>\n",
       "      <td>49</td>\n",
       "      <td>2</td>\n",
       "      <td>729</td>\n",
       "      <td>0</td>\n",
       "      <td>121</td>\n",
       "      <td>0</td>\n",
       "      <td>15</td>\n",
       "      <td>61</td>\n",
       "      <td>2</td>\n",
       "      <td>...</td>\n",
       "      <td>1</td>\n",
       "      <td>338555</td>\n",
       "      <td>4</td>\n",
       "      <td>473</td>\n",
       "      <td>45</td>\n",
       "      <td>7</td>\n",
       "      <td>6</td>\n",
       "      <td>1</td>\n",
       "      <td>0</td>\n",
       "      <td>12</td>\n",
       "    </tr>\n",
       "    <tr>\n",
       "      <th>4</th>\n",
       "      <td>139122</td>\n",
       "      <td>62</td>\n",
       "      <td>2</td>\n",
       "      <td>763</td>\n",
       "      <td>0</td>\n",
       "      <td>121</td>\n",
       "      <td>1</td>\n",
       "      <td>17</td>\n",
       "      <td>212</td>\n",
       "      <td>2</td>\n",
       "      <td>...</td>\n",
       "      <td>10</td>\n",
       "      <td>181787</td>\n",
       "      <td>5</td>\n",
       "      <td>840</td>\n",
       "      <td>36</td>\n",
       "      <td>5</td>\n",
       "      <td>4</td>\n",
       "      <td>0</td>\n",
       "      <td>28</td>\n",
       "      <td>13</td>\n",
       "    </tr>\n",
       "  </tbody>\n",
       "</table>\n",
       "<p>5 rows × 25 columns</p>\n",
       "</div>"
      ],
      "text/plain": [
       "  android_id apptype carrier dev_height dev_ppi dev_width  label lan media_id  \\\n",
       "0     159090      81       2          0       0         0      1  15        7   \n",
       "1      26571      31       1          0       0         0      1  15      112   \n",
       "2     219746      22       1        226       0        22      1  15      194   \n",
       "3     432118      49       2        729       0       121      0  15       61   \n",
       "4     139122      62       2        763       0       121      1  17      212   \n",
       "\n",
       "  ntt  ... version fea_hash location fea1_hash cus_type day weekday hour  \\\n",
       "0   6  ...      14   151517        1      2129       37   5       4    7   \n",
       "1   6  ...       9   236607        2      2952        0   6       5   11   \n",
       "2   0  ...       1    52632        3      5580       42   4       3   15   \n",
       "3   2  ...       1   338555        4       473       45   7       6    1   \n",
       "4   2  ...      10   181787        5       840       36   5       4    0   \n",
       "\n",
       "  minute second  \n",
       "0     32      1  \n",
       "1     40     40  \n",
       "2     59     13  \n",
       "3      0     12  \n",
       "4     28     13  \n",
       "\n",
       "[5 rows x 25 columns]"
      ]
     },
     "execution_count": 45,
     "metadata": {},
     "output_type": "execute_result"
    }
   ],
   "source": [
    "raw_data.head()"
   ]
  },
  {
   "cell_type": "code",
   "execution_count": 46,
   "metadata": {},
   "outputs": [],
   "source": [
    "columns = [\n",
    "            'sid',  # 样本id\n",
    "    \n",
    "            'android_id',  # 媒体信息，广告位id\n",
    "            'media_id',  # 媒体信息，媒体id\n",
    "            'package',  # 媒体信息，包名\n",
    "            'apptype',  # 媒体信息，app所属分类\n",
    "            'version',  # 媒体信息，app版本\n",
    "            \n",
    "            'fea_hash',  # 用户特征编码\n",
    "            'fea1_hash',  # 用户特征编码\n",
    "            'cus_type',  # 用户特征编码\n",
    "            'location',  # 用户地理位置编码\n",
    "    \n",
    "            'carrier',  # 设备信息，运营商\n",
    "            'dev_height',  # 设备信息，高\n",
    "            'dev_width',  # 设备信息，宽\n",
    "            'dev_ppi',  # 设备信息，分辨率\n",
    "            'lan',  # 设备信息，语言(默认中文)\n",
    "            'ntt',  # 设备信息，网络类型\n",
    "            'os',  # 设备信息，操作系统(默认安卓)\n",
    "            'osv',  # 设备信息，操作系统版本\n",
    "            \n",
    "            'timestamp',  # 交互信息，请求到达服务时间，单位ms\n",
    "            \n",
    "            'day',\n",
    "            'weekday',\n",
    "            'hour',\n",
    "            'minute', \n",
    "            'second',\n",
    "            \n",
    "            'label'\n",
    "        ]"
   ]
  },
  {
   "cell_type": "code",
   "execution_count": 47,
   "metadata": {},
   "outputs": [],
   "source": [
    "raw_data = raw_data[columns]"
   ]
  },
  {
   "cell_type": "code",
   "execution_count": 48,
   "metadata": {},
   "outputs": [
    {
     "data": {
      "text/html": [
       "<div>\n",
       "<style scoped>\n",
       "    .dataframe tbody tr th:only-of-type {\n",
       "        vertical-align: middle;\n",
       "    }\n",
       "\n",
       "    .dataframe tbody tr th {\n",
       "        vertical-align: top;\n",
       "    }\n",
       "\n",
       "    .dataframe thead th {\n",
       "        text-align: right;\n",
       "    }\n",
       "</style>\n",
       "<table border=\"1\" class=\"dataframe\">\n",
       "  <thead>\n",
       "    <tr style=\"text-align: right;\">\n",
       "      <th></th>\n",
       "      <th>sid</th>\n",
       "      <th>android_id</th>\n",
       "      <th>media_id</th>\n",
       "      <th>package</th>\n",
       "      <th>apptype</th>\n",
       "      <th>version</th>\n",
       "      <th>fea_hash</th>\n",
       "      <th>fea1_hash</th>\n",
       "      <th>cus_type</th>\n",
       "      <th>location</th>\n",
       "      <th>...</th>\n",
       "      <th>ntt</th>\n",
       "      <th>os</th>\n",
       "      <th>osv</th>\n",
       "      <th>timestamp</th>\n",
       "      <th>day</th>\n",
       "      <th>weekday</th>\n",
       "      <th>hour</th>\n",
       "      <th>minute</th>\n",
       "      <th>second</th>\n",
       "      <th>label</th>\n",
       "    </tr>\n",
       "  </thead>\n",
       "  <tbody>\n",
       "    <tr>\n",
       "      <th>0</th>\n",
       "      <td>1438873</td>\n",
       "      <td>159090</td>\n",
       "      <td>7</td>\n",
       "      <td>817</td>\n",
       "      <td>81</td>\n",
       "      <td>14</td>\n",
       "      <td>151517</td>\n",
       "      <td>2129</td>\n",
       "      <td>37</td>\n",
       "      <td>1</td>\n",
       "      <td>...</td>\n",
       "      <td>6</td>\n",
       "      <td>1</td>\n",
       "      <td>127</td>\n",
       "      <td>2019-06-07 07:32:01</td>\n",
       "      <td>5</td>\n",
       "      <td>4</td>\n",
       "      <td>7</td>\n",
       "      <td>32</td>\n",
       "      <td>1</td>\n",
       "      <td>1</td>\n",
       "    </tr>\n",
       "    <tr>\n",
       "      <th>1</th>\n",
       "      <td>1185582</td>\n",
       "      <td>26571</td>\n",
       "      <td>112</td>\n",
       "      <td>0</td>\n",
       "      <td>31</td>\n",
       "      <td>9</td>\n",
       "      <td>236607</td>\n",
       "      <td>2952</td>\n",
       "      <td>0</td>\n",
       "      <td>2</td>\n",
       "      <td>...</td>\n",
       "      <td>6</td>\n",
       "      <td>1</td>\n",
       "      <td>125</td>\n",
       "      <td>2019-06-08 11:40:40</td>\n",
       "      <td>6</td>\n",
       "      <td>5</td>\n",
       "      <td>11</td>\n",
       "      <td>40</td>\n",
       "      <td>40</td>\n",
       "      <td>1</td>\n",
       "    </tr>\n",
       "    <tr>\n",
       "      <th>2</th>\n",
       "      <td>1555716</td>\n",
       "      <td>219746</td>\n",
       "      <td>194</td>\n",
       "      <td>0</td>\n",
       "      <td>22</td>\n",
       "      <td>1</td>\n",
       "      <td>52632</td>\n",
       "      <td>5580</td>\n",
       "      <td>42</td>\n",
       "      <td>3</td>\n",
       "      <td>...</td>\n",
       "      <td>0</td>\n",
       "      <td>1</td>\n",
       "      <td>126</td>\n",
       "      <td>2019-06-06 15:59:13</td>\n",
       "      <td>4</td>\n",
       "      <td>3</td>\n",
       "      <td>15</td>\n",
       "      <td>59</td>\n",
       "      <td>13</td>\n",
       "      <td>1</td>\n",
       "    </tr>\n",
       "    <tr>\n",
       "      <th>3</th>\n",
       "      <td>1093419</td>\n",
       "      <td>432118</td>\n",
       "      <td>61</td>\n",
       "      <td>0</td>\n",
       "      <td>49</td>\n",
       "      <td>1</td>\n",
       "      <td>338555</td>\n",
       "      <td>473</td>\n",
       "      <td>45</td>\n",
       "      <td>4</td>\n",
       "      <td>...</td>\n",
       "      <td>2</td>\n",
       "      <td>1</td>\n",
       "      <td>126</td>\n",
       "      <td>2019-06-09 01:00:12</td>\n",
       "      <td>7</td>\n",
       "      <td>6</td>\n",
       "      <td>1</td>\n",
       "      <td>0</td>\n",
       "      <td>12</td>\n",
       "      <td>0</td>\n",
       "    </tr>\n",
       "    <tr>\n",
       "      <th>4</th>\n",
       "      <td>1400089</td>\n",
       "      <td>139122</td>\n",
       "      <td>212</td>\n",
       "      <td>0</td>\n",
       "      <td>62</td>\n",
       "      <td>10</td>\n",
       "      <td>181787</td>\n",
       "      <td>840</td>\n",
       "      <td>36</td>\n",
       "      <td>5</td>\n",
       "      <td>...</td>\n",
       "      <td>2</td>\n",
       "      <td>1</td>\n",
       "      <td>122</td>\n",
       "      <td>2019-06-07 00:28:13</td>\n",
       "      <td>5</td>\n",
       "      <td>4</td>\n",
       "      <td>0</td>\n",
       "      <td>28</td>\n",
       "      <td>13</td>\n",
       "      <td>1</td>\n",
       "    </tr>\n",
       "  </tbody>\n",
       "</table>\n",
       "<p>5 rows × 25 columns</p>\n",
       "</div>"
      ],
      "text/plain": [
       "       sid android_id media_id package apptype version fea_hash fea1_hash  \\\n",
       "0  1438873     159090        7     817      81      14   151517      2129   \n",
       "1  1185582      26571      112       0      31       9   236607      2952   \n",
       "2  1555716     219746      194       0      22       1    52632      5580   \n",
       "3  1093419     432118       61       0      49       1   338555       473   \n",
       "4  1400089     139122      212       0      62      10   181787       840   \n",
       "\n",
       "  cus_type location  ... ntt os  osv           timestamp day weekday hour  \\\n",
       "0       37        1  ...   6  1  127 2019-06-07 07:32:01   5       4    7   \n",
       "1        0        2  ...   6  1  125 2019-06-08 11:40:40   6       5   11   \n",
       "2       42        3  ...   0  1  126 2019-06-06 15:59:13   4       3   15   \n",
       "3       45        4  ...   2  1  126 2019-06-09 01:00:12   7       6    1   \n",
       "4       36        5  ...   2  1  122 2019-06-07 00:28:13   5       4    0   \n",
       "\n",
       "  minute second label  \n",
       "0     32      1     1  \n",
       "1     40     40     1  \n",
       "2     59     13     1  \n",
       "3      0     12     0  \n",
       "4     28     13     1  \n",
       "\n",
       "[5 rows x 25 columns]"
      ]
     },
     "execution_count": 48,
     "metadata": {},
     "output_type": "execute_result"
    }
   ],
   "source": [
    "raw_data.head()"
   ]
  },
  {
   "cell_type": "code",
   "execution_count": 49,
   "metadata": {},
   "outputs": [],
   "source": [
    "raw_train = raw_data.loc[raw_data.label >= 0]\n",
    "raw_test = raw_data.loc[raw_data.label == -1]"
   ]
  },
  {
   "cell_type": "code",
   "execution_count": 50,
   "metadata": {},
   "outputs": [
    {
     "data": {
      "text/plain": [
       "(500000, 25)"
      ]
     },
     "execution_count": 50,
     "metadata": {},
     "output_type": "execute_result"
    }
   ],
   "source": [
    "raw_train.shape"
   ]
  },
  {
   "cell_type": "code",
   "execution_count": 51,
   "metadata": {},
   "outputs": [
    {
     "data": {
      "text/plain": [
       "(150000, 25)"
      ]
     },
     "execution_count": 51,
     "metadata": {},
     "output_type": "execute_result"
    }
   ],
   "source": [
    "raw_test.shape"
   ]
  },
  {
   "cell_type": "code",
   "execution_count": 52,
   "metadata": {},
   "outputs": [],
   "source": [
    "# 保存数据\n",
    "if USE_TIME:\n",
    "    raw_train.to_csv(DATA_PATH + \"processData/lbe_raw_train_with_time.csv\", index=False)\n",
    "    raw_test.to_csv(DATA_PATH + \"processData/lbe_raw_test_with_time.csv\", index=False)\n",
    "else:\n",
    "    raw_train.to_csv(DATA_PATH + \"processData/lbe_raw_train.csv\", index=False)\n",
    "    raw_test.to_csv(DATA_PATH + \"processData/lbe_raw_test.csv\", index=False)"
   ]
  },
  {
   "cell_type": "code",
   "execution_count": null,
   "metadata": {},
   "outputs": [],
   "source": []
  }
 ],
 "metadata": {
  "kernelspec": {
   "display_name": "Python 3",
   "language": "python",
   "name": "python3"
  },
  "language_info": {
   "codemirror_mode": {
    "name": "ipython",
    "version": 3
   },
   "file_extension": ".py",
   "mimetype": "text/x-python",
   "name": "python",
   "nbconvert_exporter": "python",
   "pygments_lexer": "ipython3",
   "version": "3.8.3"
  }
 },
 "nbformat": 4,
 "nbformat_minor": 4
}
